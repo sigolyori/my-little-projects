{
  "metadata": {
    "kernelspec": {
      "language": "python",
      "display_name": "Python 3",
      "name": "python3"
    },
    "language_info": {
      "name": "python",
      "version": "3.10.14",
      "mimetype": "text/x-python",
      "codemirror_mode": {
        "name": "ipython",
        "version": 3
      },
      "pygments_lexer": "ipython3",
      "nbconvert_exporter": "python",
      "file_extension": ".py"
    },
    "kaggle": {
      "accelerator": "none",
      "dataSources": [
        {
          "sourceId": 4699,
          "databundleVersionId": 35353,
          "sourceType": "competition"
        },
        {
          "sourceId": 183590,
          "sourceType": "modelInstanceVersion",
          "isSourceIdPinned": true,
          "modelInstanceId": 156480,
          "modelId": 178922
        }
      ],
      "dockerImageVersionId": 30761,
      "isInternetEnabled": true,
      "language": "python",
      "sourceType": "notebook",
      "isGpuEnabled": false
    },
    "colab": {
      "name": "Prudential Life Insurance Assessment - Python",
      "provenance": [],
      "include_colab_link": true
    },
    "widgets": {
      "application/vnd.jupyter.widget-state+json": {
        "2e959038f76c4dc68496e1d9af91acbf": {
          "model_module": "@jupyter-widgets/controls",
          "model_name": "VBoxModel",
          "model_module_version": "1.5.0",
          "state": {
            "_dom_classes": [],
            "_model_module": "@jupyter-widgets/controls",
            "_model_module_version": "1.5.0",
            "_model_name": "VBoxModel",
            "_view_count": null,
            "_view_module": "@jupyter-widgets/controls",
            "_view_module_version": "1.5.0",
            "_view_name": "VBoxView",
            "box_style": "",
            "children": [
              "IPY_MODEL_b5d491c33ea9442f9ff9411f8709ae53"
            ],
            "layout": "IPY_MODEL_d931289940164186b8112c6071c1f36b"
          }
        },
        "dfa4c05bcd2a420587d7a7fa57070062": {
          "model_module": "@jupyter-widgets/controls",
          "model_name": "HTMLModel",
          "model_module_version": "1.5.0",
          "state": {
            "_dom_classes": [],
            "_model_module": "@jupyter-widgets/controls",
            "_model_module_version": "1.5.0",
            "_model_name": "HTMLModel",
            "_view_count": null,
            "_view_module": "@jupyter-widgets/controls",
            "_view_module_version": "1.5.0",
            "_view_name": "HTMLView",
            "description": "",
            "description_tooltip": null,
            "layout": "IPY_MODEL_a1518572c2c84d019ac60e1daa5cc0d0",
            "placeholder": "​",
            "style": "IPY_MODEL_b8a9d577cb32415c971737fce6222552",
            "value": "<center> <img\nsrc=https://www.kaggle.com/static/images/site-logo.png\nalt='Kaggle'> <br> Create an API token from <a\nhref=\"https://www.kaggle.com/settings/account\" target=\"_blank\">your Kaggle\nsettings page</a> and paste it below along with your Kaggle username. <br> </center>"
          }
        },
        "3508795c7bb641f582c87d66d3c18f8a": {
          "model_module": "@jupyter-widgets/controls",
          "model_name": "TextModel",
          "model_module_version": "1.5.0",
          "state": {
            "_dom_classes": [],
            "_model_module": "@jupyter-widgets/controls",
            "_model_module_version": "1.5.0",
            "_model_name": "TextModel",
            "_view_count": null,
            "_view_module": "@jupyter-widgets/controls",
            "_view_module_version": "1.5.0",
            "_view_name": "TextView",
            "continuous_update": true,
            "description": "Username:",
            "description_tooltip": null,
            "disabled": false,
            "layout": "IPY_MODEL_45b5a77c08ee46bb8c817993d129d7d9",
            "placeholder": "​",
            "style": "IPY_MODEL_457c343ce568425d8cb61ff0514b28b5",
            "value": "paviiiii"
          }
        },
        "9419272777814f15957b25dee895ca60": {
          "model_module": "@jupyter-widgets/controls",
          "model_name": "PasswordModel",
          "model_module_version": "1.5.0",
          "state": {
            "_dom_classes": [],
            "_model_module": "@jupyter-widgets/controls",
            "_model_module_version": "1.5.0",
            "_model_name": "PasswordModel",
            "_view_count": null,
            "_view_module": "@jupyter-widgets/controls",
            "_view_module_version": "1.5.0",
            "_view_name": "PasswordView",
            "continuous_update": true,
            "description": "Token:",
            "description_tooltip": null,
            "disabled": false,
            "layout": "IPY_MODEL_8884145669e64216b736155558c4cb11",
            "placeholder": "​",
            "style": "IPY_MODEL_beb585abf2614740960c60a0082f5719",
            "value": ""
          }
        },
        "890028c57a084b2b84d2b015b999f2cf": {
          "model_module": "@jupyter-widgets/controls",
          "model_name": "ButtonModel",
          "model_module_version": "1.5.0",
          "state": {
            "_dom_classes": [],
            "_model_module": "@jupyter-widgets/controls",
            "_model_module_version": "1.5.0",
            "_model_name": "ButtonModel",
            "_view_count": null,
            "_view_module": "@jupyter-widgets/controls",
            "_view_module_version": "1.5.0",
            "_view_name": "ButtonView",
            "button_style": "",
            "description": "Login",
            "disabled": false,
            "icon": "",
            "layout": "IPY_MODEL_6e4fc48f3f2245eca6c8feffb5c07e4b",
            "style": "IPY_MODEL_3c57362249b74deb99930570a0b1fe59",
            "tooltip": ""
          }
        },
        "8bc472f064fd4d81bba45163a4b656d6": {
          "model_module": "@jupyter-widgets/controls",
          "model_name": "HTMLModel",
          "model_module_version": "1.5.0",
          "state": {
            "_dom_classes": [],
            "_model_module": "@jupyter-widgets/controls",
            "_model_module_version": "1.5.0",
            "_model_name": "HTMLModel",
            "_view_count": null,
            "_view_module": "@jupyter-widgets/controls",
            "_view_module_version": "1.5.0",
            "_view_name": "HTMLView",
            "description": "",
            "description_tooltip": null,
            "layout": "IPY_MODEL_a707d853c67a4420b0a1e625da7821ac",
            "placeholder": "​",
            "style": "IPY_MODEL_51a1996c01214055ac77f5557eabdc3f",
            "value": "\n<b>Thank You</b></center>"
          }
        },
        "d931289940164186b8112c6071c1f36b": {
          "model_module": "@jupyter-widgets/base",
          "model_name": "LayoutModel",
          "model_module_version": "1.2.0",
          "state": {
            "_model_module": "@jupyter-widgets/base",
            "_model_module_version": "1.2.0",
            "_model_name": "LayoutModel",
            "_view_count": null,
            "_view_module": "@jupyter-widgets/base",
            "_view_module_version": "1.2.0",
            "_view_name": "LayoutView",
            "align_content": null,
            "align_items": "center",
            "align_self": null,
            "border": null,
            "bottom": null,
            "display": "flex",
            "flex": null,
            "flex_flow": "column",
            "grid_area": null,
            "grid_auto_columns": null,
            "grid_auto_flow": null,
            "grid_auto_rows": null,
            "grid_column": null,
            "grid_gap": null,
            "grid_row": null,
            "grid_template_areas": null,
            "grid_template_columns": null,
            "grid_template_rows": null,
            "height": null,
            "justify_content": null,
            "justify_items": null,
            "left": null,
            "margin": null,
            "max_height": null,
            "max_width": null,
            "min_height": null,
            "min_width": null,
            "object_fit": null,
            "object_position": null,
            "order": null,
            "overflow": null,
            "overflow_x": null,
            "overflow_y": null,
            "padding": null,
            "right": null,
            "top": null,
            "visibility": null,
            "width": "50%"
          }
        },
        "a1518572c2c84d019ac60e1daa5cc0d0": {
          "model_module": "@jupyter-widgets/base",
          "model_name": "LayoutModel",
          "model_module_version": "1.2.0",
          "state": {
            "_model_module": "@jupyter-widgets/base",
            "_model_module_version": "1.2.0",
            "_model_name": "LayoutModel",
            "_view_count": null,
            "_view_module": "@jupyter-widgets/base",
            "_view_module_version": "1.2.0",
            "_view_name": "LayoutView",
            "align_content": null,
            "align_items": null,
            "align_self": null,
            "border": null,
            "bottom": null,
            "display": null,
            "flex": null,
            "flex_flow": null,
            "grid_area": null,
            "grid_auto_columns": null,
            "grid_auto_flow": null,
            "grid_auto_rows": null,
            "grid_column": null,
            "grid_gap": null,
            "grid_row": null,
            "grid_template_areas": null,
            "grid_template_columns": null,
            "grid_template_rows": null,
            "height": null,
            "justify_content": null,
            "justify_items": null,
            "left": null,
            "margin": null,
            "max_height": null,
            "max_width": null,
            "min_height": null,
            "min_width": null,
            "object_fit": null,
            "object_position": null,
            "order": null,
            "overflow": null,
            "overflow_x": null,
            "overflow_y": null,
            "padding": null,
            "right": null,
            "top": null,
            "visibility": null,
            "width": null
          }
        },
        "b8a9d577cb32415c971737fce6222552": {
          "model_module": "@jupyter-widgets/controls",
          "model_name": "DescriptionStyleModel",
          "model_module_version": "1.5.0",
          "state": {
            "_model_module": "@jupyter-widgets/controls",
            "_model_module_version": "1.5.0",
            "_model_name": "DescriptionStyleModel",
            "_view_count": null,
            "_view_module": "@jupyter-widgets/base",
            "_view_module_version": "1.2.0",
            "_view_name": "StyleView",
            "description_width": ""
          }
        },
        "45b5a77c08ee46bb8c817993d129d7d9": {
          "model_module": "@jupyter-widgets/base",
          "model_name": "LayoutModel",
          "model_module_version": "1.2.0",
          "state": {
            "_model_module": "@jupyter-widgets/base",
            "_model_module_version": "1.2.0",
            "_model_name": "LayoutModel",
            "_view_count": null,
            "_view_module": "@jupyter-widgets/base",
            "_view_module_version": "1.2.0",
            "_view_name": "LayoutView",
            "align_content": null,
            "align_items": null,
            "align_self": null,
            "border": null,
            "bottom": null,
            "display": null,
            "flex": null,
            "flex_flow": null,
            "grid_area": null,
            "grid_auto_columns": null,
            "grid_auto_flow": null,
            "grid_auto_rows": null,
            "grid_column": null,
            "grid_gap": null,
            "grid_row": null,
            "grid_template_areas": null,
            "grid_template_columns": null,
            "grid_template_rows": null,
            "height": null,
            "justify_content": null,
            "justify_items": null,
            "left": null,
            "margin": null,
            "max_height": null,
            "max_width": null,
            "min_height": null,
            "min_width": null,
            "object_fit": null,
            "object_position": null,
            "order": null,
            "overflow": null,
            "overflow_x": null,
            "overflow_y": null,
            "padding": null,
            "right": null,
            "top": null,
            "visibility": null,
            "width": null
          }
        },
        "457c343ce568425d8cb61ff0514b28b5": {
          "model_module": "@jupyter-widgets/controls",
          "model_name": "DescriptionStyleModel",
          "model_module_version": "1.5.0",
          "state": {
            "_model_module": "@jupyter-widgets/controls",
            "_model_module_version": "1.5.0",
            "_model_name": "DescriptionStyleModel",
            "_view_count": null,
            "_view_module": "@jupyter-widgets/base",
            "_view_module_version": "1.2.0",
            "_view_name": "StyleView",
            "description_width": ""
          }
        },
        "8884145669e64216b736155558c4cb11": {
          "model_module": "@jupyter-widgets/base",
          "model_name": "LayoutModel",
          "model_module_version": "1.2.0",
          "state": {
            "_model_module": "@jupyter-widgets/base",
            "_model_module_version": "1.2.0",
            "_model_name": "LayoutModel",
            "_view_count": null,
            "_view_module": "@jupyter-widgets/base",
            "_view_module_version": "1.2.0",
            "_view_name": "LayoutView",
            "align_content": null,
            "align_items": null,
            "align_self": null,
            "border": null,
            "bottom": null,
            "display": null,
            "flex": null,
            "flex_flow": null,
            "grid_area": null,
            "grid_auto_columns": null,
            "grid_auto_flow": null,
            "grid_auto_rows": null,
            "grid_column": null,
            "grid_gap": null,
            "grid_row": null,
            "grid_template_areas": null,
            "grid_template_columns": null,
            "grid_template_rows": null,
            "height": null,
            "justify_content": null,
            "justify_items": null,
            "left": null,
            "margin": null,
            "max_height": null,
            "max_width": null,
            "min_height": null,
            "min_width": null,
            "object_fit": null,
            "object_position": null,
            "order": null,
            "overflow": null,
            "overflow_x": null,
            "overflow_y": null,
            "padding": null,
            "right": null,
            "top": null,
            "visibility": null,
            "width": null
          }
        },
        "beb585abf2614740960c60a0082f5719": {
          "model_module": "@jupyter-widgets/controls",
          "model_name": "DescriptionStyleModel",
          "model_module_version": "1.5.0",
          "state": {
            "_model_module": "@jupyter-widgets/controls",
            "_model_module_version": "1.5.0",
            "_model_name": "DescriptionStyleModel",
            "_view_count": null,
            "_view_module": "@jupyter-widgets/base",
            "_view_module_version": "1.2.0",
            "_view_name": "StyleView",
            "description_width": ""
          }
        },
        "6e4fc48f3f2245eca6c8feffb5c07e4b": {
          "model_module": "@jupyter-widgets/base",
          "model_name": "LayoutModel",
          "model_module_version": "1.2.0",
          "state": {
            "_model_module": "@jupyter-widgets/base",
            "_model_module_version": "1.2.0",
            "_model_name": "LayoutModel",
            "_view_count": null,
            "_view_module": "@jupyter-widgets/base",
            "_view_module_version": "1.2.0",
            "_view_name": "LayoutView",
            "align_content": null,
            "align_items": null,
            "align_self": null,
            "border": null,
            "bottom": null,
            "display": null,
            "flex": null,
            "flex_flow": null,
            "grid_area": null,
            "grid_auto_columns": null,
            "grid_auto_flow": null,
            "grid_auto_rows": null,
            "grid_column": null,
            "grid_gap": null,
            "grid_row": null,
            "grid_template_areas": null,
            "grid_template_columns": null,
            "grid_template_rows": null,
            "height": null,
            "justify_content": null,
            "justify_items": null,
            "left": null,
            "margin": null,
            "max_height": null,
            "max_width": null,
            "min_height": null,
            "min_width": null,
            "object_fit": null,
            "object_position": null,
            "order": null,
            "overflow": null,
            "overflow_x": null,
            "overflow_y": null,
            "padding": null,
            "right": null,
            "top": null,
            "visibility": null,
            "width": null
          }
        },
        "3c57362249b74deb99930570a0b1fe59": {
          "model_module": "@jupyter-widgets/controls",
          "model_name": "ButtonStyleModel",
          "model_module_version": "1.5.0",
          "state": {
            "_model_module": "@jupyter-widgets/controls",
            "_model_module_version": "1.5.0",
            "_model_name": "ButtonStyleModel",
            "_view_count": null,
            "_view_module": "@jupyter-widgets/base",
            "_view_module_version": "1.2.0",
            "_view_name": "StyleView",
            "button_color": null,
            "font_weight": ""
          }
        },
        "a707d853c67a4420b0a1e625da7821ac": {
          "model_module": "@jupyter-widgets/base",
          "model_name": "LayoutModel",
          "model_module_version": "1.2.0",
          "state": {
            "_model_module": "@jupyter-widgets/base",
            "_model_module_version": "1.2.0",
            "_model_name": "LayoutModel",
            "_view_count": null,
            "_view_module": "@jupyter-widgets/base",
            "_view_module_version": "1.2.0",
            "_view_name": "LayoutView",
            "align_content": null,
            "align_items": null,
            "align_self": null,
            "border": null,
            "bottom": null,
            "display": null,
            "flex": null,
            "flex_flow": null,
            "grid_area": null,
            "grid_auto_columns": null,
            "grid_auto_flow": null,
            "grid_auto_rows": null,
            "grid_column": null,
            "grid_gap": null,
            "grid_row": null,
            "grid_template_areas": null,
            "grid_template_columns": null,
            "grid_template_rows": null,
            "height": null,
            "justify_content": null,
            "justify_items": null,
            "left": null,
            "margin": null,
            "max_height": null,
            "max_width": null,
            "min_height": null,
            "min_width": null,
            "object_fit": null,
            "object_position": null,
            "order": null,
            "overflow": null,
            "overflow_x": null,
            "overflow_y": null,
            "padding": null,
            "right": null,
            "top": null,
            "visibility": null,
            "width": null
          }
        },
        "51a1996c01214055ac77f5557eabdc3f": {
          "model_module": "@jupyter-widgets/controls",
          "model_name": "DescriptionStyleModel",
          "model_module_version": "1.5.0",
          "state": {
            "_model_module": "@jupyter-widgets/controls",
            "_model_module_version": "1.5.0",
            "_model_name": "DescriptionStyleModel",
            "_view_count": null,
            "_view_module": "@jupyter-widgets/base",
            "_view_module_version": "1.2.0",
            "_view_name": "StyleView",
            "description_width": ""
          }
        },
        "2443090c5e7d4e5c8de8f838c4d2fa7b": {
          "model_module": "@jupyter-widgets/controls",
          "model_name": "LabelModel",
          "model_module_version": "1.5.0",
          "state": {
            "_dom_classes": [],
            "_model_module": "@jupyter-widgets/controls",
            "_model_module_version": "1.5.0",
            "_model_name": "LabelModel",
            "_view_count": null,
            "_view_module": "@jupyter-widgets/controls",
            "_view_module_version": "1.5.0",
            "_view_name": "LabelView",
            "description": "",
            "description_tooltip": null,
            "layout": "IPY_MODEL_c5560c45145549feb019b1ba60215848",
            "placeholder": "​",
            "style": "IPY_MODEL_351c9b2fa3d04f04bb2ee2195acf02b2",
            "value": "Connecting..."
          }
        },
        "c5560c45145549feb019b1ba60215848": {
          "model_module": "@jupyter-widgets/base",
          "model_name": "LayoutModel",
          "model_module_version": "1.2.0",
          "state": {
            "_model_module": "@jupyter-widgets/base",
            "_model_module_version": "1.2.0",
            "_model_name": "LayoutModel",
            "_view_count": null,
            "_view_module": "@jupyter-widgets/base",
            "_view_module_version": "1.2.0",
            "_view_name": "LayoutView",
            "align_content": null,
            "align_items": null,
            "align_self": null,
            "border": null,
            "bottom": null,
            "display": null,
            "flex": null,
            "flex_flow": null,
            "grid_area": null,
            "grid_auto_columns": null,
            "grid_auto_flow": null,
            "grid_auto_rows": null,
            "grid_column": null,
            "grid_gap": null,
            "grid_row": null,
            "grid_template_areas": null,
            "grid_template_columns": null,
            "grid_template_rows": null,
            "height": null,
            "justify_content": null,
            "justify_items": null,
            "left": null,
            "margin": null,
            "max_height": null,
            "max_width": null,
            "min_height": null,
            "min_width": null,
            "object_fit": null,
            "object_position": null,
            "order": null,
            "overflow": null,
            "overflow_x": null,
            "overflow_y": null,
            "padding": null,
            "right": null,
            "top": null,
            "visibility": null,
            "width": null
          }
        },
        "351c9b2fa3d04f04bb2ee2195acf02b2": {
          "model_module": "@jupyter-widgets/controls",
          "model_name": "DescriptionStyleModel",
          "model_module_version": "1.5.0",
          "state": {
            "_model_module": "@jupyter-widgets/controls",
            "_model_module_version": "1.5.0",
            "_model_name": "DescriptionStyleModel",
            "_view_count": null,
            "_view_module": "@jupyter-widgets/base",
            "_view_module_version": "1.2.0",
            "_view_name": "StyleView",
            "description_width": ""
          }
        },
        "b5d491c33ea9442f9ff9411f8709ae53": {
          "model_module": "@jupyter-widgets/controls",
          "model_name": "LabelModel",
          "model_module_version": "1.5.0",
          "state": {
            "_dom_classes": [],
            "_model_module": "@jupyter-widgets/controls",
            "_model_module_version": "1.5.0",
            "_model_name": "LabelModel",
            "_view_count": null,
            "_view_module": "@jupyter-widgets/controls",
            "_view_module_version": "1.5.0",
            "_view_name": "LabelView",
            "description": "",
            "description_tooltip": null,
            "layout": "IPY_MODEL_a4643e64bb1341d0b808f5097358f5e1",
            "placeholder": "​",
            "style": "IPY_MODEL_4a2cd2d1f18544bf818a63ec14648b0f",
            "value": "Kaggle credentials successfully validated."
          }
        },
        "a4643e64bb1341d0b808f5097358f5e1": {
          "model_module": "@jupyter-widgets/base",
          "model_name": "LayoutModel",
          "model_module_version": "1.2.0",
          "state": {
            "_model_module": "@jupyter-widgets/base",
            "_model_module_version": "1.2.0",
            "_model_name": "LayoutModel",
            "_view_count": null,
            "_view_module": "@jupyter-widgets/base",
            "_view_module_version": "1.2.0",
            "_view_name": "LayoutView",
            "align_content": null,
            "align_items": null,
            "align_self": null,
            "border": null,
            "bottom": null,
            "display": null,
            "flex": null,
            "flex_flow": null,
            "grid_area": null,
            "grid_auto_columns": null,
            "grid_auto_flow": null,
            "grid_auto_rows": null,
            "grid_column": null,
            "grid_gap": null,
            "grid_row": null,
            "grid_template_areas": null,
            "grid_template_columns": null,
            "grid_template_rows": null,
            "height": null,
            "justify_content": null,
            "justify_items": null,
            "left": null,
            "margin": null,
            "max_height": null,
            "max_width": null,
            "min_height": null,
            "min_width": null,
            "object_fit": null,
            "object_position": null,
            "order": null,
            "overflow": null,
            "overflow_x": null,
            "overflow_y": null,
            "padding": null,
            "right": null,
            "top": null,
            "visibility": null,
            "width": null
          }
        },
        "4a2cd2d1f18544bf818a63ec14648b0f": {
          "model_module": "@jupyter-widgets/controls",
          "model_name": "DescriptionStyleModel",
          "model_module_version": "1.5.0",
          "state": {
            "_model_module": "@jupyter-widgets/controls",
            "_model_module_version": "1.5.0",
            "_model_name": "DescriptionStyleModel",
            "_view_count": null,
            "_view_module": "@jupyter-widgets/base",
            "_view_module_version": "1.2.0",
            "_view_name": "StyleView",
            "description_width": ""
          }
        },
        "424a754423d7415aad914dfaba84f6a6": {
          "model_module": "@jupyter-widgets/controls",
          "model_name": "HBoxModel",
          "model_module_version": "1.5.0",
          "state": {
            "_dom_classes": [],
            "_model_module": "@jupyter-widgets/controls",
            "_model_module_version": "1.5.0",
            "_model_name": "HBoxModel",
            "_view_count": null,
            "_view_module": "@jupyter-widgets/controls",
            "_view_module_version": "1.5.0",
            "_view_name": "HBoxView",
            "box_style": "",
            "children": [
              "IPY_MODEL_842e891303474527a1baab31ea571584",
              "IPY_MODEL_ec694148ad1d4252ae221ffb09f76e04",
              "IPY_MODEL_f6d00a7868a3437b83dd6cabfd2fc02b"
            ],
            "layout": "IPY_MODEL_3f00cd61f5274f4fadb9e8d65a77ba7e"
          }
        },
        "842e891303474527a1baab31ea571584": {
          "model_module": "@jupyter-widgets/controls",
          "model_name": "HTMLModel",
          "model_module_version": "1.5.0",
          "state": {
            "_dom_classes": [],
            "_model_module": "@jupyter-widgets/controls",
            "_model_module_version": "1.5.0",
            "_model_name": "HTMLModel",
            "_view_count": null,
            "_view_module": "@jupyter-widgets/controls",
            "_view_module_version": "1.5.0",
            "_view_name": "HTMLView",
            "description": "",
            "description_tooltip": null,
            "layout": "IPY_MODEL_0d77b0ff9b7e4625a0e422e2326a7679",
            "placeholder": "​",
            "style": "IPY_MODEL_31028b321aee4330abb3395665e353c6",
            "value": "Downloading 1 files: 100%"
          }
        },
        "ec694148ad1d4252ae221ffb09f76e04": {
          "model_module": "@jupyter-widgets/controls",
          "model_name": "FloatProgressModel",
          "model_module_version": "1.5.0",
          "state": {
            "_dom_classes": [],
            "_model_module": "@jupyter-widgets/controls",
            "_model_module_version": "1.5.0",
            "_model_name": "FloatProgressModel",
            "_view_count": null,
            "_view_module": "@jupyter-widgets/controls",
            "_view_module_version": "1.5.0",
            "_view_name": "ProgressView",
            "bar_style": "success",
            "description": "",
            "description_tooltip": null,
            "layout": "IPY_MODEL_29500ce2bd39402abeb560efed56738a",
            "max": 1,
            "min": 0,
            "orientation": "horizontal",
            "style": "IPY_MODEL_2b655ae695bb4de8984ee155f7a15159",
            "value": 1
          }
        },
        "f6d00a7868a3437b83dd6cabfd2fc02b": {
          "model_module": "@jupyter-widgets/controls",
          "model_name": "HTMLModel",
          "model_module_version": "1.5.0",
          "state": {
            "_dom_classes": [],
            "_model_module": "@jupyter-widgets/controls",
            "_model_module_version": "1.5.0",
            "_model_name": "HTMLModel",
            "_view_count": null,
            "_view_module": "@jupyter-widgets/controls",
            "_view_module_version": "1.5.0",
            "_view_name": "HTMLView",
            "description": "",
            "description_tooltip": null,
            "layout": "IPY_MODEL_917cc25cf3ff4af5b7faf4010a207b2e",
            "placeholder": "​",
            "style": "IPY_MODEL_3d31018ff3ee43c78fc3f45520ecb684",
            "value": " 1/1 [00:01&lt;00:00,  1.03s/it]"
          }
        },
        "3f00cd61f5274f4fadb9e8d65a77ba7e": {
          "model_module": "@jupyter-widgets/base",
          "model_name": "LayoutModel",
          "model_module_version": "1.2.0",
          "state": {
            "_model_module": "@jupyter-widgets/base",
            "_model_module_version": "1.2.0",
            "_model_name": "LayoutModel",
            "_view_count": null,
            "_view_module": "@jupyter-widgets/base",
            "_view_module_version": "1.2.0",
            "_view_name": "LayoutView",
            "align_content": null,
            "align_items": null,
            "align_self": null,
            "border": null,
            "bottom": null,
            "display": null,
            "flex": null,
            "flex_flow": null,
            "grid_area": null,
            "grid_auto_columns": null,
            "grid_auto_flow": null,
            "grid_auto_rows": null,
            "grid_column": null,
            "grid_gap": null,
            "grid_row": null,
            "grid_template_areas": null,
            "grid_template_columns": null,
            "grid_template_rows": null,
            "height": null,
            "justify_content": null,
            "justify_items": null,
            "left": null,
            "margin": null,
            "max_height": null,
            "max_width": null,
            "min_height": null,
            "min_width": null,
            "object_fit": null,
            "object_position": null,
            "order": null,
            "overflow": null,
            "overflow_x": null,
            "overflow_y": null,
            "padding": null,
            "right": null,
            "top": null,
            "visibility": null,
            "width": null
          }
        },
        "0d77b0ff9b7e4625a0e422e2326a7679": {
          "model_module": "@jupyter-widgets/base",
          "model_name": "LayoutModel",
          "model_module_version": "1.2.0",
          "state": {
            "_model_module": "@jupyter-widgets/base",
            "_model_module_version": "1.2.0",
            "_model_name": "LayoutModel",
            "_view_count": null,
            "_view_module": "@jupyter-widgets/base",
            "_view_module_version": "1.2.0",
            "_view_name": "LayoutView",
            "align_content": null,
            "align_items": null,
            "align_self": null,
            "border": null,
            "bottom": null,
            "display": null,
            "flex": null,
            "flex_flow": null,
            "grid_area": null,
            "grid_auto_columns": null,
            "grid_auto_flow": null,
            "grid_auto_rows": null,
            "grid_column": null,
            "grid_gap": null,
            "grid_row": null,
            "grid_template_areas": null,
            "grid_template_columns": null,
            "grid_template_rows": null,
            "height": null,
            "justify_content": null,
            "justify_items": null,
            "left": null,
            "margin": null,
            "max_height": null,
            "max_width": null,
            "min_height": null,
            "min_width": null,
            "object_fit": null,
            "object_position": null,
            "order": null,
            "overflow": null,
            "overflow_x": null,
            "overflow_y": null,
            "padding": null,
            "right": null,
            "top": null,
            "visibility": null,
            "width": null
          }
        },
        "31028b321aee4330abb3395665e353c6": {
          "model_module": "@jupyter-widgets/controls",
          "model_name": "DescriptionStyleModel",
          "model_module_version": "1.5.0",
          "state": {
            "_model_module": "@jupyter-widgets/controls",
            "_model_module_version": "1.5.0",
            "_model_name": "DescriptionStyleModel",
            "_view_count": null,
            "_view_module": "@jupyter-widgets/base",
            "_view_module_version": "1.2.0",
            "_view_name": "StyleView",
            "description_width": ""
          }
        },
        "29500ce2bd39402abeb560efed56738a": {
          "model_module": "@jupyter-widgets/base",
          "model_name": "LayoutModel",
          "model_module_version": "1.2.0",
          "state": {
            "_model_module": "@jupyter-widgets/base",
            "_model_module_version": "1.2.0",
            "_model_name": "LayoutModel",
            "_view_count": null,
            "_view_module": "@jupyter-widgets/base",
            "_view_module_version": "1.2.0",
            "_view_name": "LayoutView",
            "align_content": null,
            "align_items": null,
            "align_self": null,
            "border": null,
            "bottom": null,
            "display": null,
            "flex": null,
            "flex_flow": null,
            "grid_area": null,
            "grid_auto_columns": null,
            "grid_auto_flow": null,
            "grid_auto_rows": null,
            "grid_column": null,
            "grid_gap": null,
            "grid_row": null,
            "grid_template_areas": null,
            "grid_template_columns": null,
            "grid_template_rows": null,
            "height": null,
            "justify_content": null,
            "justify_items": null,
            "left": null,
            "margin": null,
            "max_height": null,
            "max_width": null,
            "min_height": null,
            "min_width": null,
            "object_fit": null,
            "object_position": null,
            "order": null,
            "overflow": null,
            "overflow_x": null,
            "overflow_y": null,
            "padding": null,
            "right": null,
            "top": null,
            "visibility": null,
            "width": null
          }
        },
        "2b655ae695bb4de8984ee155f7a15159": {
          "model_module": "@jupyter-widgets/controls",
          "model_name": "ProgressStyleModel",
          "model_module_version": "1.5.0",
          "state": {
            "_model_module": "@jupyter-widgets/controls",
            "_model_module_version": "1.5.0",
            "_model_name": "ProgressStyleModel",
            "_view_count": null,
            "_view_module": "@jupyter-widgets/base",
            "_view_module_version": "1.2.0",
            "_view_name": "StyleView",
            "bar_color": null,
            "description_width": ""
          }
        },
        "917cc25cf3ff4af5b7faf4010a207b2e": {
          "model_module": "@jupyter-widgets/base",
          "model_name": "LayoutModel",
          "model_module_version": "1.2.0",
          "state": {
            "_model_module": "@jupyter-widgets/base",
            "_model_module_version": "1.2.0",
            "_model_name": "LayoutModel",
            "_view_count": null,
            "_view_module": "@jupyter-widgets/base",
            "_view_module_version": "1.2.0",
            "_view_name": "LayoutView",
            "align_content": null,
            "align_items": null,
            "align_self": null,
            "border": null,
            "bottom": null,
            "display": null,
            "flex": null,
            "flex_flow": null,
            "grid_area": null,
            "grid_auto_columns": null,
            "grid_auto_flow": null,
            "grid_auto_rows": null,
            "grid_column": null,
            "grid_gap": null,
            "grid_row": null,
            "grid_template_areas": null,
            "grid_template_columns": null,
            "grid_template_rows": null,
            "height": null,
            "justify_content": null,
            "justify_items": null,
            "left": null,
            "margin": null,
            "max_height": null,
            "max_width": null,
            "min_height": null,
            "min_width": null,
            "object_fit": null,
            "object_position": null,
            "order": null,
            "overflow": null,
            "overflow_x": null,
            "overflow_y": null,
            "padding": null,
            "right": null,
            "top": null,
            "visibility": null,
            "width": null
          }
        },
        "3d31018ff3ee43c78fc3f45520ecb684": {
          "model_module": "@jupyter-widgets/controls",
          "model_name": "DescriptionStyleModel",
          "model_module_version": "1.5.0",
          "state": {
            "_model_module": "@jupyter-widgets/controls",
            "_model_module_version": "1.5.0",
            "_model_name": "DescriptionStyleModel",
            "_view_count": null,
            "_view_module": "@jupyter-widgets/base",
            "_view_module_version": "1.2.0",
            "_view_name": "StyleView",
            "description_width": ""
          }
        }
      }
    }
  },
  "nbformat_minor": 0,
  "nbformat": 4,
  "cells": [
    {
      "cell_type": "markdown",
      "metadata": {
        "id": "view-in-github",
        "colab_type": "text"
      },
      "source": [
        "<a href=\"https://colab.research.google.com/github/sigolyori/my-little-projects/blob/main/Prudential_Life_Insurance_Assessment_Python.ipynb\" target=\"_parent\"><img src=\"https://colab.research.google.com/assets/colab-badge.svg\" alt=\"Open In Colab\"/></a>"
      ]
    },
    {
      "source": [
        "# IMPORTANT: SOME KAGGLE DATA SOURCES ARE PRIVATE\n",
        "# RUN THIS CELL IN ORDER TO IMPORT YOUR KAGGLE DATA SOURCES.\n",
        "import kagglehub\n",
        "kagglehub.login()\n"
      ],
      "metadata": {
        "colab": {
          "base_uri": "https://localhost:8080/",
          "height": 101,
          "referenced_widgets": [
            "2e959038f76c4dc68496e1d9af91acbf",
            "dfa4c05bcd2a420587d7a7fa57070062",
            "3508795c7bb641f582c87d66d3c18f8a",
            "9419272777814f15957b25dee895ca60",
            "890028c57a084b2b84d2b015b999f2cf",
            "8bc472f064fd4d81bba45163a4b656d6",
            "d931289940164186b8112c6071c1f36b",
            "a1518572c2c84d019ac60e1daa5cc0d0",
            "b8a9d577cb32415c971737fce6222552",
            "45b5a77c08ee46bb8c817993d129d7d9",
            "457c343ce568425d8cb61ff0514b28b5",
            "8884145669e64216b736155558c4cb11",
            "beb585abf2614740960c60a0082f5719",
            "6e4fc48f3f2245eca6c8feffb5c07e4b",
            "3c57362249b74deb99930570a0b1fe59",
            "a707d853c67a4420b0a1e625da7821ac",
            "51a1996c01214055ac77f5557eabdc3f",
            "2443090c5e7d4e5c8de8f838c4d2fa7b",
            "c5560c45145549feb019b1ba60215848",
            "351c9b2fa3d04f04bb2ee2195acf02b2",
            "b5d491c33ea9442f9ff9411f8709ae53",
            "a4643e64bb1341d0b808f5097358f5e1",
            "4a2cd2d1f18544bf818a63ec14648b0f"
          ]
        },
        "id": "H7BHi8DSye60",
        "outputId": "2d6c9436-ed82-4160-c70f-b478cc7757ff"
      },
      "cell_type": "code",
      "outputs": [
        {
          "output_type": "display_data",
          "data": {
            "text/plain": [
              "VBox(children=(HTML(value='<center> <img\\nsrc=https://www.kaggle.com/static/images/site-logo.png\\nalt=\\'Kaggle…"
            ],
            "application/vnd.jupyter.widget-view+json": {
              "version_major": 2,
              "version_minor": 0,
              "model_id": "2e959038f76c4dc68496e1d9af91acbf"
            }
          },
          "metadata": {}
        },
        {
          "output_type": "stream",
          "name": "stdout",
          "text": [
            "Kaggle credentials set.\n",
            "Warning: Looks like you're using an outdated `kagglehub` version (installed: 0.3.10), please consider upgrading to the latest version (0.3.11).\n",
            "Kaggle credentials successfully validated.\n"
          ]
        }
      ],
      "execution_count": 1
    },
    {
      "source": [
        "# IMPORTANT: RUN THIS CELL IN ORDER TO IMPORT YOUR KAGGLE DATA SOURCES,\n",
        "# THEN FEEL FREE TO DELETE THIS CELL.\n",
        "# NOTE: THIS NOTEBOOK ENVIRONMENT DIFFERS FROM KAGGLE'S PYTHON\n",
        "# ENVIRONMENT SO THERE MAY BE MISSING LIBRARIES USED BY YOUR\n",
        "# NOTEBOOK.\n",
        "\n",
        "prudential_life_insurance_assessment_path = kagglehub.competition_download('prudential-life-insurance-assessment')\n",
        "paviiiii_underwriting_best_rf_scikitlearn_default_1_path = kagglehub.model_download('paviiiii/underwriting_best_rf/ScikitLearn/default/1')\n",
        "\n",
        "print('Data source import complete.')\n"
      ],
      "metadata": {
        "colab": {
          "base_uri": "https://localhost:8080/",
          "height": 205,
          "referenced_widgets": [
            "424a754423d7415aad914dfaba84f6a6",
            "842e891303474527a1baab31ea571584",
            "ec694148ad1d4252ae221ffb09f76e04",
            "f6d00a7868a3437b83dd6cabfd2fc02b",
            "3f00cd61f5274f4fadb9e8d65a77ba7e",
            "0d77b0ff9b7e4625a0e422e2326a7679",
            "31028b321aee4330abb3395665e353c6",
            "29500ce2bd39402abeb560efed56738a",
            "2b655ae695bb4de8984ee155f7a15159",
            "917cc25cf3ff4af5b7faf4010a207b2e",
            "3d31018ff3ee43c78fc3f45520ecb684"
          ]
        },
        "id": "2bCUuqVrye64",
        "outputId": "41d1449b-8c18-4199-8a48-643198b7ad28"
      },
      "cell_type": "code",
      "outputs": [
        {
          "output_type": "stream",
          "name": "stdout",
          "text": [
            "Downloading from https://www.kaggle.com/api/v1/competitions/data/download-all/prudential-life-insurance-assessment...\n"
          ]
        },
        {
          "output_type": "stream",
          "name": "stderr",
          "text": [
            "100%|██████████| 3.24M/3.24M [00:00<00:00, 121MB/s]"
          ]
        },
        {
          "output_type": "stream",
          "name": "stdout",
          "text": [
            "Extracting files...\n"
          ]
        },
        {
          "output_type": "stream",
          "name": "stderr",
          "text": [
            "\n"
          ]
        },
        {
          "output_type": "stream",
          "name": "stdout",
          "text": [
            "Warning: Looks like you're using an outdated `kagglehub` version (installed: 0.3.10), please consider upgrading to the latest version (0.3.11).\n"
          ]
        },
        {
          "output_type": "display_data",
          "data": {
            "text/plain": [
              "Downloading 1 files:   0%|          | 0/1 [00:00<?, ?it/s]"
            ],
            "application/vnd.jupyter.widget-view+json": {
              "version_major": 2,
              "version_minor": 0,
              "model_id": "424a754423d7415aad914dfaba84f6a6"
            }
          },
          "metadata": {}
        },
        {
          "output_type": "stream",
          "name": "stdout",
          "text": [
            "Downloading from https://www.kaggle.com/api/v1/models/paviiiii/underwriting_best_rf/ScikitLearn/default/1/download/best_lgbm.pkl...\n"
          ]
        },
        {
          "output_type": "stream",
          "name": "stderr",
          "text": [
            "\n",
            "  0%|          | 0.00/4.09M [00:00<?, ?B/s]\u001b[A\n",
            "100%|██████████| 4.09M/4.09M [00:00<00:00, 16.7MB/s]"
          ]
        },
        {
          "output_type": "stream",
          "name": "stdout",
          "text": [
            "Data source import complete.\n"
          ]
        },
        {
          "output_type": "stream",
          "name": "stderr",
          "text": [
            "\n"
          ]
        }
      ],
      "execution_count": 3
    },
    {
      "cell_type": "code",
      "source": [
        "%pip install optuna.integration"
      ],
      "metadata": {
        "trusted": true,
        "execution": {
          "iopub.status.busy": "2024-11-30T12:19:44.5233Z",
          "iopub.execute_input": "2024-11-30T12:19:44.52371Z",
          "iopub.status.idle": "2024-11-30T12:19:57.614144Z",
          "shell.execute_reply.started": "2024-11-30T12:19:44.523675Z",
          "shell.execute_reply": "2024-11-30T12:19:57.612554Z"
        },
        "colab": {
          "base_uri": "https://localhost:8080/"
        },
        "id": "beB9GgA-ye65",
        "outputId": "9db68f44-03bd-46a5-c0c4-5e8346406e24"
      },
      "outputs": [
        {
          "output_type": "stream",
          "name": "stdout",
          "text": [
            "Collecting optuna.integration\n",
            "  Downloading optuna_integration-4.2.1-py3-none-any.whl.metadata (12 kB)\n",
            "Collecting optuna (from optuna.integration)\n",
            "  Downloading optuna-4.2.1-py3-none-any.whl.metadata (17 kB)\n",
            "Collecting alembic>=1.5.0 (from optuna->optuna.integration)\n",
            "  Downloading alembic-1.15.2-py3-none-any.whl.metadata (7.3 kB)\n",
            "Collecting colorlog (from optuna->optuna.integration)\n",
            "  Downloading colorlog-6.9.0-py3-none-any.whl.metadata (10 kB)\n",
            "Requirement already satisfied: numpy in /usr/local/lib/python3.11/dist-packages (from optuna->optuna.integration) (2.0.2)\n",
            "Requirement already satisfied: packaging>=20.0 in /usr/local/lib/python3.11/dist-packages (from optuna->optuna.integration) (24.2)\n",
            "Requirement already satisfied: sqlalchemy>=1.4.2 in /usr/local/lib/python3.11/dist-packages (from optuna->optuna.integration) (2.0.40)\n",
            "Requirement already satisfied: tqdm in /usr/local/lib/python3.11/dist-packages (from optuna->optuna.integration) (4.67.1)\n",
            "Requirement already satisfied: PyYAML in /usr/local/lib/python3.11/dist-packages (from optuna->optuna.integration) (6.0.2)\n",
            "Requirement already satisfied: Mako in /usr/lib/python3/dist-packages (from alembic>=1.5.0->optuna->optuna.integration) (1.1.3)\n",
            "Requirement already satisfied: typing-extensions>=4.12 in /usr/local/lib/python3.11/dist-packages (from alembic>=1.5.0->optuna->optuna.integration) (4.13.0)\n",
            "Requirement already satisfied: greenlet>=1 in /usr/local/lib/python3.11/dist-packages (from sqlalchemy>=1.4.2->optuna->optuna.integration) (3.1.1)\n",
            "Downloading optuna_integration-4.2.1-py3-none-any.whl (97 kB)\n",
            "\u001b[2K   \u001b[90m━━━━━━━━━━━━━━━━━━━━━━━━━━━━━━━━━━━━━━━━\u001b[0m \u001b[32m97.6/97.6 kB\u001b[0m \u001b[31m3.9 MB/s\u001b[0m eta \u001b[36m0:00:00\u001b[0m\n",
            "\u001b[?25hDownloading optuna-4.2.1-py3-none-any.whl (383 kB)\n",
            "\u001b[2K   \u001b[90m━━━━━━━━━━━━━━━━━━━━━━━━━━━━━━━━━━━━━━━━\u001b[0m \u001b[32m383.6/383.6 kB\u001b[0m \u001b[31m14.9 MB/s\u001b[0m eta \u001b[36m0:00:00\u001b[0m\n",
            "\u001b[?25hDownloading alembic-1.15.2-py3-none-any.whl (231 kB)\n",
            "\u001b[2K   \u001b[90m━━━━━━━━━━━━━━━━━━━━━━━━━━━━━━━━━━━━━━━━\u001b[0m \u001b[32m231.9/231.9 kB\u001b[0m \u001b[31m22.5 MB/s\u001b[0m eta \u001b[36m0:00:00\u001b[0m\n",
            "\u001b[?25hDownloading colorlog-6.9.0-py3-none-any.whl (11 kB)\n",
            "Installing collected packages: colorlog, alembic, optuna, optuna.integration\n",
            "Successfully installed alembic-1.15.2 colorlog-6.9.0 optuna-4.2.1 optuna.integration-4.2.1\n"
          ]
        }
      ],
      "execution_count": 4
    },
    {
      "cell_type": "markdown",
      "source": [
        "## 데이터 불러오기"
      ],
      "metadata": {
        "id": "Olff0g85ye67"
      }
    },
    {
      "cell_type": "code",
      "source": [
        "!ls -al /root/.cache/kagglehub/competitions/prudential-life-insurance-assessment/"
      ],
      "metadata": {
        "colab": {
          "base_uri": "https://localhost:8080/"
        },
        "id": "Tdoh1VaB0xqD",
        "outputId": "471f647a-d42e-4b18-adc2-37a2dbd8bff5"
      },
      "execution_count": 15,
      "outputs": [
        {
          "output_type": "stream",
          "name": "stdout",
          "text": [
            "total 3336\n",
            "drwxr-xr-x 2 root root    4096 Apr  4 12:37 .\n",
            "drwxr-xr-x 3 root root    4096 Apr  4 12:37 ..\n",
            "-rw-r--r-- 1 root root   25483 Apr  4 12:37 sample_submission.csv.zip\n",
            "-rw-r--r-- 1 root root  839141 Apr  4 12:37 test.csv.zip\n",
            "-rw-r--r-- 1 root root 2538336 Apr  4 12:37 train.csv.zip\n"
          ]
        }
      ]
    },
    {
      "cell_type": "code",
      "source": [
        "# This Python 3 environment comes with many helpful analytics libraries installed\n",
        "# It is defined by the kaggle/python Docker image: https://github.com/kaggle/docker-python\n",
        "# For example, here's several helpful packages to load\n",
        "\n",
        "import numpy as np # linear algebra\n",
        "import pandas as pd # data processing, CSV file I/O (e.g. pd.read_csv)\n",
        "\n",
        "# Input data files are available in the read-only \"../input/\" directory\n",
        "# For example, running this (by clicking run or pressing Shift+Enter) will list all files under the input directory\n",
        "\n",
        "import os\n",
        "for dirname, _, filenames in os.walk('/kaggle/input'):\n",
        "    for filename in filenames:\n",
        "        print(os.path.join(dirname, filename))\n",
        "\n",
        "# You can write up to 20GB to the current directory (/kaggle/working/) that gets preserved as output when you create a version using \"Save & Run All\"\n",
        "# You can also write temporary files to /kaggle/temp/, but they won't be saved outside of the current session"
      ],
      "metadata": {
        "_uuid": "8f2839f25d086af736a60e9eeb907d3b93b6e0e5",
        "_cell_guid": "b1076dfc-b9ad-4769-8c92-a6c4dae69d19",
        "execution": {
          "iopub.status.busy": "2024-11-30T12:19:57.6171Z",
          "iopub.execute_input": "2024-11-30T12:19:57.61756Z",
          "iopub.status.idle": "2024-11-30T12:19:58.020009Z",
          "shell.execute_reply.started": "2024-11-30T12:19:57.617506Z",
          "shell.execute_reply": "2024-11-30T12:19:58.01895Z"
        },
        "trusted": true,
        "id": "GCtgn5cLye69"
      },
      "outputs": [],
      "execution_count": 11
    },
    {
      "cell_type": "code",
      "source": [
        "import zipfile\n",
        "import os\n",
        "\n",
        "# 압축 파일들의 이름을 리스트로 만듭니다.\n",
        "zip_files = ['/root/.cache/kagglehub/competitions/prudential-life-insurance-assessment/sample_submission.csv.zip',\n",
        "             '/root/.cache/kagglehub/competitions/prudential-life-insurance-assessment/test.csv.zip',\n",
        "             '/root/.cache/kagglehub/competitions/prudential-life-insurance-assessment/train.csv.zip']\n",
        "\n",
        "extract_path = '/root/.cache/kagglehub/competitions/prudential-life-insurance-assessment/'\n",
        "\n",
        "# 각 zip 파일을 순회하며 압축을 풉니다.\n",
        "for zip_file in zip_files:\n",
        "    # 파일이 존재하는지 확인합니다.\n",
        "    if os.path.exists(zip_file):\n",
        "        with zipfile.ZipFile(zip_file, 'r') as zip_ref:\n",
        "            zip_ref.extractall(extract_path)\n",
        "            print(f\"'{zip_file}' 압축 해제 완료.\")\n",
        "    else:\n",
        "        print(f\"'{zip_file}' 파일을 찾을 수 없습니다.\")"
      ],
      "metadata": {
        "execution": {
          "iopub.status.busy": "2024-11-30T12:19:58.021269Z",
          "iopub.execute_input": "2024-11-30T12:19:58.021715Z",
          "iopub.status.idle": "2024-11-30T12:19:58.208171Z",
          "shell.execute_reply.started": "2024-11-30T12:19:58.02168Z",
          "shell.execute_reply": "2024-11-30T12:19:58.20704Z"
        },
        "trusted": true,
        "colab": {
          "base_uri": "https://localhost:8080/"
        },
        "id": "SUKst5mvye6-",
        "outputId": "02bcc6fd-869a-45f6-8754-a1cea09b7112"
      },
      "outputs": [
        {
          "output_type": "stream",
          "name": "stdout",
          "text": [
            "'/root/.cache/kagglehub/competitions/prudential-life-insurance-assessment/sample_submission.csv.zip' 압축 해제 완료.\n",
            "'/root/.cache/kagglehub/competitions/prudential-life-insurance-assessment/test.csv.zip' 압축 해제 완료.\n",
            "'/root/.cache/kagglehub/competitions/prudential-life-insurance-assessment/train.csv.zip' 압축 해제 완료.\n"
          ]
        }
      ],
      "execution_count": 16
    },
    {
      "cell_type": "code",
      "source": [
        "import pandas as pd\n",
        "import os\n",
        "\n",
        "# 압축 해제된 CSV 파일들의 경로 설정\n",
        "extract_path = '/root/.cache/kagglehub/competitions/prudential-life-insurance-assessment/'\n",
        "\n",
        "train_csv = os.path.join(extract_path, 'train.csv')\n",
        "test_csv = os.path.join(extract_path, 'test.csv')\n",
        "sample_submission_csv = os.path.join(extract_path, 'sample_submission.csv')\n",
        "\n",
        "# 데이터 로드\n",
        "train_df = pd.read_csv(train_csv)\n",
        "test_df = pd.read_csv(test_csv)\n",
        "sample_submission_df = pd.read_csv(sample_submission_csv)\n",
        "\n",
        "# 데이터 크기 확인\n",
        "print(\"Train DataFrame Shape:\", train_df.shape)\n",
        "print(\"Test DataFrame Shape:\", test_df.shape)\n",
        "print(\"Sample Submission DataFrame Shape:\", sample_submission_df.shape)\n",
        "\n",
        "# 데이터 샘플 확인\n",
        "print(\"\\nTrain DataFrame Head:\")\n",
        "print(train_df.head())\n",
        "\n",
        "print(\"\\nTest DataFrame Head:\")\n",
        "print(test_df.head())\n",
        "\n",
        "print(\"\\nSample Submission DataFrame Head:\")\n",
        "print(sample_submission_df.head())"
      ],
      "metadata": {
        "execution": {
          "iopub.status.busy": "2024-11-30T12:19:58.209455Z",
          "iopub.execute_input": "2024-11-30T12:19:58.20989Z",
          "iopub.status.idle": "2024-11-30T12:19:59.048646Z",
          "shell.execute_reply.started": "2024-11-30T12:19:58.209855Z",
          "shell.execute_reply": "2024-11-30T12:19:59.04755Z"
        },
        "trusted": true,
        "colab": {
          "base_uri": "https://localhost:8080/"
        },
        "id": "TB860xywye7A",
        "outputId": "bd636287-f933-4b20-9923-e40fd779045d"
      },
      "outputs": [
        {
          "output_type": "stream",
          "name": "stdout",
          "text": [
            "Train DataFrame Shape: (59381, 128)\n",
            "Test DataFrame Shape: (19765, 127)\n",
            "Sample Submission DataFrame Shape: (19765, 2)\n",
            "\n",
            "Train DataFrame Head:\n",
            "   Id  Product_Info_1 Product_Info_2  Product_Info_3  Product_Info_4  \\\n",
            "0   2               1             D3              10        0.076923   \n",
            "1   5               1             A1              26        0.076923   \n",
            "2   6               1             E1              26        0.076923   \n",
            "3   7               1             D4              10        0.487179   \n",
            "4   8               1             D2              26        0.230769   \n",
            "\n",
            "   Product_Info_5  Product_Info_6  Product_Info_7   Ins_Age        Ht  ...  \\\n",
            "0               2               1               1  0.641791  0.581818  ...   \n",
            "1               2               3               1  0.059701  0.600000  ...   \n",
            "2               2               3               1  0.029851  0.745455  ...   \n",
            "3               2               3               1  0.164179  0.672727  ...   \n",
            "4               2               3               1  0.417910  0.654545  ...   \n",
            "\n",
            "   Medical_Keyword_40  Medical_Keyword_41  Medical_Keyword_42  \\\n",
            "0                   0                   0                   0   \n",
            "1                   0                   0                   0   \n",
            "2                   0                   0                   0   \n",
            "3                   0                   0                   0   \n",
            "4                   0                   0                   0   \n",
            "\n",
            "   Medical_Keyword_43  Medical_Keyword_44  Medical_Keyword_45  \\\n",
            "0                   0                   0                   0   \n",
            "1                   0                   0                   0   \n",
            "2                   0                   0                   0   \n",
            "3                   0                   0                   0   \n",
            "4                   0                   0                   0   \n",
            "\n",
            "   Medical_Keyword_46  Medical_Keyword_47  Medical_Keyword_48  Response  \n",
            "0                   0                   0                   0         8  \n",
            "1                   0                   0                   0         4  \n",
            "2                   0                   0                   0         8  \n",
            "3                   0                   0                   0         8  \n",
            "4                   0                   0                   0         8  \n",
            "\n",
            "[5 rows x 128 columns]\n",
            "\n",
            "Test DataFrame Head:\n",
            "   Id  Product_Info_1 Product_Info_2  Product_Info_3  Product_Info_4  \\\n",
            "0   1               1             D3              26        0.487179   \n",
            "1   3               1             A2              26        0.076923   \n",
            "2   4               1             D3              26        0.144667   \n",
            "3   9               1             A1              26        0.151709   \n",
            "4  12               1             A1              26        0.076923   \n",
            "\n",
            "   Product_Info_5  Product_Info_6  Product_Info_7   Ins_Age        Ht  ...  \\\n",
            "0               2               3               1  0.611940  0.781818  ...   \n",
            "1               2               3               1  0.626866  0.727273  ...   \n",
            "2               2               3               1  0.582090  0.709091  ...   \n",
            "3               2               1               1  0.522388  0.654545  ...   \n",
            "4               2               3               1  0.298507  0.672727  ...   \n",
            "\n",
            "   Medical_Keyword_39  Medical_Keyword_40  Medical_Keyword_41  \\\n",
            "0                   0                   0                   0   \n",
            "1                   0                   0                   0   \n",
            "2                   0                   0                   0   \n",
            "3                   0                   0                   0   \n",
            "4                   0                   0                   0   \n",
            "\n",
            "   Medical_Keyword_42  Medical_Keyword_43  Medical_Keyword_44  \\\n",
            "0                   0                   0                   0   \n",
            "1                   0                   0                   0   \n",
            "2                   0                   0                   0   \n",
            "3                   0                   0                   0   \n",
            "4                   0                   0                   0   \n",
            "\n",
            "   Medical_Keyword_45  Medical_Keyword_46  Medical_Keyword_47  \\\n",
            "0                   0                   0                   0   \n",
            "1                   0                   0                   0   \n",
            "2                   0                   0                   0   \n",
            "3                   0                   0                   1   \n",
            "4                   0                   0                   0   \n",
            "\n",
            "   Medical_Keyword_48  \n",
            "0                   0  \n",
            "1                   0  \n",
            "2                   0  \n",
            "3                   1  \n",
            "4                   0  \n",
            "\n",
            "[5 rows x 127 columns]\n",
            "\n",
            "Sample Submission DataFrame Head:\n",
            "   Id  Response\n",
            "0   1         8\n",
            "1   3         8\n",
            "2   4         8\n",
            "3   9         8\n",
            "4  12         8\n"
          ]
        }
      ],
      "execution_count": 17
    },
    {
      "cell_type": "code",
      "source": [
        "train_df['InsuredInfo_1'].value_counts()"
      ],
      "metadata": {
        "trusted": true,
        "execution": {
          "iopub.status.busy": "2024-11-30T12:19:59.052209Z",
          "iopub.execute_input": "2024-11-30T12:19:59.052827Z",
          "iopub.status.idle": "2024-11-30T12:19:59.06774Z",
          "shell.execute_reply.started": "2024-11-30T12:19:59.052791Z",
          "shell.execute_reply": "2024-11-30T12:19:59.066492Z"
        },
        "colab": {
          "base_uri": "https://localhost:8080/",
          "height": 210
        },
        "id": "ep0AHBEOye7B",
        "outputId": "ed65dc06-31e3-4cf0-a3f8-17b9242a0705"
      },
      "outputs": [
        {
          "output_type": "execute_result",
          "data": {
            "text/plain": [
              "InsuredInfo_1\n",
              "1    47223\n",
              "2    11886\n",
              "3      272\n",
              "Name: count, dtype: int64"
            ],
            "text/html": [
              "<div>\n",
              "<style scoped>\n",
              "    .dataframe tbody tr th:only-of-type {\n",
              "        vertical-align: middle;\n",
              "    }\n",
              "\n",
              "    .dataframe tbody tr th {\n",
              "        vertical-align: top;\n",
              "    }\n",
              "\n",
              "    .dataframe thead th {\n",
              "        text-align: right;\n",
              "    }\n",
              "</style>\n",
              "<table border=\"1\" class=\"dataframe\">\n",
              "  <thead>\n",
              "    <tr style=\"text-align: right;\">\n",
              "      <th></th>\n",
              "      <th>count</th>\n",
              "    </tr>\n",
              "    <tr>\n",
              "      <th>InsuredInfo_1</th>\n",
              "      <th></th>\n",
              "    </tr>\n",
              "  </thead>\n",
              "  <tbody>\n",
              "    <tr>\n",
              "      <th>1</th>\n",
              "      <td>47223</td>\n",
              "    </tr>\n",
              "    <tr>\n",
              "      <th>2</th>\n",
              "      <td>11886</td>\n",
              "    </tr>\n",
              "    <tr>\n",
              "      <th>3</th>\n",
              "      <td>272</td>\n",
              "    </tr>\n",
              "  </tbody>\n",
              "</table>\n",
              "</div><br><label><b>dtype:</b> int64</label>"
            ]
          },
          "metadata": {},
          "execution_count": 18
        }
      ],
      "execution_count": 18
    },
    {
      "cell_type": "code",
      "source": [
        "import seaborn as sns\n",
        "import matplotlib.pyplot as plt\n",
        "\n",
        "# Response 열의 카운트 값 계산\n",
        "response_counts = train_df['Response'].value_counts().sort_index()\n",
        "\n",
        "# 시각화\n",
        "plt.figure(figsize=(10, 6))\n",
        "sns.barplot(x=response_counts.index, y=response_counts.values, palette=\"viridis\")\n",
        "plt.title(\"Count of Decision Levels (Response) from 1 to 8\", fontsize=16)\n",
        "plt.xlabel(\"Decision Level (Response)\", fontsize=14)\n",
        "plt.ylabel(\"Count\", fontsize=14)\n",
        "plt.xticks(fontsize=12)\n",
        "plt.yticks(fontsize=12)\n",
        "plt.show()\n"
      ],
      "metadata": {
        "trusted": true,
        "execution": {
          "iopub.status.busy": "2024-11-30T12:19:59.069226Z",
          "iopub.execute_input": "2024-11-30T12:19:59.069658Z",
          "iopub.status.idle": "2024-11-30T12:20:00.190446Z",
          "shell.execute_reply.started": "2024-11-30T12:19:59.06959Z",
          "shell.execute_reply": "2024-11-30T12:20:00.189476Z"
        },
        "colab": {
          "base_uri": "https://localhost:8080/",
          "height": 662
        },
        "id": "hRfh128nye7B",
        "outputId": "091f4eb7-60fc-4662-ea8b-70c3718ed167"
      },
      "outputs": [
        {
          "output_type": "stream",
          "name": "stderr",
          "text": [
            "<ipython-input-19-dae0a6235659>:9: FutureWarning: \n",
            "\n",
            "Passing `palette` without assigning `hue` is deprecated and will be removed in v0.14.0. Assign the `x` variable to `hue` and set `legend=False` for the same effect.\n",
            "\n",
            "  sns.barplot(x=response_counts.index, y=response_counts.values, palette=\"viridis\")\n"
          ]
        },
        {
          "output_type": "display_data",
          "data": {
            "text/plain": [
              "<Figure size 1000x600 with 1 Axes>"
            ],
            "image/png": "[encoded data removed]"
          },
          "metadata": {}
        }
      ],
      "execution_count": 19
    },
    {
      "cell_type": "code",
      "source": [
        "# Response 변환 적용\n",
        "train_df['Response'] = train_df['Response'].apply(lambda x: 1 if x == 1 else 0)"
      ],
      "metadata": {
        "execution": {
          "iopub.status.busy": "2024-11-30T12:20:00.192144Z",
          "iopub.execute_input": "2024-11-30T12:20:00.192597Z",
          "iopub.status.idle": "2024-11-30T12:20:00.219953Z",
          "shell.execute_reply.started": "2024-11-30T12:20:00.192562Z",
          "shell.execute_reply": "2024-11-30T12:20:00.218535Z"
        },
        "trusted": true,
        "id": "sqt-7u-Bye7C"
      },
      "outputs": [],
      "execution_count": 20
    },
    {
      "cell_type": "code",
      "source": [
        "train_df['Response'].value_counts()"
      ],
      "metadata": {
        "execution": {
          "iopub.status.busy": "2024-11-30T12:20:00.221319Z",
          "iopub.execute_input": "2024-11-30T12:20:00.221678Z",
          "iopub.status.idle": "2024-11-30T12:20:00.235226Z",
          "shell.execute_reply.started": "2024-11-30T12:20:00.221614Z",
          "shell.execute_reply": "2024-11-30T12:20:00.234271Z"
        },
        "trusted": true,
        "colab": {
          "base_uri": "https://localhost:8080/",
          "height": 178
        },
        "id": "1zmRTkQ9ye7C",
        "outputId": "d4cf6b7e-2358-40a0-945c-e9bbc2f5cca0"
      },
      "outputs": [
        {
          "output_type": "execute_result",
          "data": {
            "text/plain": [
              "Response\n",
              "0    53174\n",
              "1     6207\n",
              "Name: count, dtype: int64"
            ],
            "text/html": [
              "<div>\n",
              "<style scoped>\n",
              "    .dataframe tbody tr th:only-of-type {\n",
              "        vertical-align: middle;\n",
              "    }\n",
              "\n",
              "    .dataframe tbody tr th {\n",
              "        vertical-align: top;\n",
              "    }\n",
              "\n",
              "    .dataframe thead th {\n",
              "        text-align: right;\n",
              "    }\n",
              "</style>\n",
              "<table border=\"1\" class=\"dataframe\">\n",
              "  <thead>\n",
              "    <tr style=\"text-align: right;\">\n",
              "      <th></th>\n",
              "      <th>count</th>\n",
              "    </tr>\n",
              "    <tr>\n",
              "      <th>Response</th>\n",
              "      <th></th>\n",
              "    </tr>\n",
              "  </thead>\n",
              "  <tbody>\n",
              "    <tr>\n",
              "      <th>0</th>\n",
              "      <td>53174</td>\n",
              "    </tr>\n",
              "    <tr>\n",
              "      <th>1</th>\n",
              "      <td>6207</td>\n",
              "    </tr>\n",
              "  </tbody>\n",
              "</table>\n",
              "</div><br><label><b>dtype:</b> int64</label>"
            ]
          },
          "metadata": {},
          "execution_count": 21
        }
      ],
      "execution_count": 21
    },
    {
      "cell_type": "code",
      "source": [
        "6207/(6207+53174)"
      ],
      "metadata": {
        "trusted": true,
        "execution": {
          "iopub.status.busy": "2024-11-30T12:20:00.236403Z",
          "iopub.execute_input": "2024-11-30T12:20:00.236699Z",
          "iopub.status.idle": "2024-11-30T12:20:00.249729Z",
          "shell.execute_reply.started": "2024-11-30T12:20:00.236666Z",
          "shell.execute_reply": "2024-11-30T12:20:00.248702Z"
        },
        "colab": {
          "base_uri": "https://localhost:8080/"
        },
        "id": "ahKctREZye7D",
        "outputId": "05a9237e-68d4-48bb-f18f-c5dd0d204150"
      },
      "outputs": [
        {
          "output_type": "execute_result",
          "data": {
            "text/plain": [
              "0.10452838450009262"
            ]
          },
          "metadata": {},
          "execution_count": 22
        }
      ],
      "execution_count": 22
    },
    {
      "cell_type": "code",
      "source": [
        "import seaborn as sns\n",
        "import matplotlib.pyplot as plt\n",
        "\n",
        "# Response 열의 카운트 값 계산\n",
        "response_counts = train_df['Response'].value_counts().sort_index()\n",
        "\n",
        "# 시각화\n",
        "plt.figure(figsize=(10, 6))\n",
        "sns.barplot(x=response_counts.index, y=response_counts.values, palette=\"viridis\")\n",
        "plt.title(\"Count of Decision Levels (Response) from 0 to 1\", fontsize=16)\n",
        "plt.xlabel(\"Decision Level (Response)\", fontsize=14)\n",
        "plt.ylabel(\"Count\", fontsize=14)\n",
        "plt.xticks(fontsize=12)\n",
        "plt.yticks(fontsize=12)\n",
        "plt.show()"
      ],
      "metadata": {
        "trusted": true,
        "execution": {
          "iopub.status.busy": "2024-11-30T12:20:00.251006Z",
          "iopub.execute_input": "2024-11-30T12:20:00.251308Z",
          "iopub.status.idle": "2024-11-30T12:20:00.49199Z",
          "shell.execute_reply.started": "2024-11-30T12:20:00.251278Z",
          "shell.execute_reply": "2024-11-30T12:20:00.490712Z"
        },
        "colab": {
          "base_uri": "https://localhost:8080/",
          "height": 662
        },
        "id": "UZ7vMBR8ye7D",
        "outputId": "1331dd9c-b8e8-4aea-c9b8-a86d6d17a424"
      },
      "outputs": [
        {
          "output_type": "stream",
          "name": "stderr",
          "text": [
            "<ipython-input-23-448896b76e0c>:9: FutureWarning: \n",
            "\n",
            "Passing `palette` without assigning `hue` is deprecated and will be removed in v0.14.0. Assign the `x` variable to `hue` and set `legend=False` for the same effect.\n",
            "\n",
            "  sns.barplot(x=response_counts.index, y=response_counts.values, palette=\"viridis\")\n"
          ]
        },
        {
          "output_type": "display_data",
          "data": {
            "text/plain": [
              "<Figure size 1000x600 with 1 Axes>"
            ],
            "image/png": "[encoded data removed]"
          },
          "metadata": {}
        }
      ],
      "execution_count": 23
    },
    {
      "cell_type": "markdown",
      "source": [
        "## 데이터 타입 변경\n",
        "\n",
        "데이터 타입에 대한 결정 수행이 우선 요구됨. 고유 값이 40개 이하인 경우 범주형으로 구분함. 40개 이상의 값을 가진 경우 개별 변수에 대해서 값, 분포를 보고 판단함."
      ],
      "metadata": {
        "id": "HnVrIi_zye7D"
      }
    },
    {
      "cell_type": "code",
      "source": [
        "# 명목형 변수 리스트 (categorical)\n",
        "categorical_vars = [\n",
        "    'Product_Info_1', 'Product_Info_2', 'Product_Info_3', 'Product_Info_5',\n",
        "    'Product_Info_6', 'Product_Info_7', 'Employment_Info_2', 'Employment_Info_3',\n",
        "    'Employment_Info_5', 'InsuredInfo_1', 'InsuredInfo_2', 'InsuredInfo_3',\n",
        "    'InsuredInfo_4', 'InsuredInfo_5', 'InsuredInfo_6', 'InsuredInfo_7',\n",
        "    'Insurance_History_1', 'Insurance_History_2', 'Insurance_History_3',\n",
        "    'Insurance_History_4', 'Insurance_History_7', 'Insurance_History_8',\n",
        "    'Insurance_History_9', 'Family_Hist_1', 'Medical_History_2',\n",
        "    'Medical_History_3', 'Medical_History_4', 'Medical_History_5',\n",
        "    'Medical_History_6', 'Medical_History_7', 'Medical_History_8',\n",
        "    'Medical_History_9', 'Medical_History_11', 'Medical_History_12',\n",
        "    'Medical_History_13', 'Medical_History_14', 'Medical_History_16',\n",
        "    'Medical_History_17', 'Medical_History_18', 'Medical_History_19',\n",
        "    'Medical_History_20', 'Medical_History_21', 'Medical_History_22',\n",
        "    'Medical_History_23', 'Medical_History_25', 'Medical_History_26',\n",
        "    'Medical_History_27', 'Medical_History_28', 'Medical_History_29',\n",
        "    'Medical_History_30', 'Medical_History_31', 'Medical_History_33',\n",
        "    'Medical_History_34', 'Medical_History_35', 'Medical_History_36',\n",
        "    'Medical_History_37', 'Medical_History_38', 'Medical_History_39',\n",
        "    'Medical_History_40', 'Medical_History_41'\n",
        "]\n",
        "\n",
        "# 연속형 변수 리스트 (continuous)\n",
        "continuous_vars = [\n",
        "    'Product_Info_4', 'Ins_Age', 'Ht', 'Wt', 'BMI', 'Employment_Info_1',\n",
        "    'Employment_Info_4', 'Employment_Info_6', 'Insurance_History_5',\n",
        "    'Family_Hist_2', 'Family_Hist_3', 'Family_Hist_4', 'Family_Hist_5'\n",
        "]\n",
        "\n",
        "# 이산형 변수 리스트 (discrete)\n",
        "discrete_vars = [\n",
        "    'Medical_History_1', 'Medical_History_10', 'Medical_History_15',\n",
        "    'Medical_History_24', 'Medical_History_32'\n",
        "]\n",
        "\n",
        "# 더미 변수 리스트 (dummy variables)\n",
        "dummy_vars = [f'Medical_Keyword_{i}' for i in range(1, 49)]\n"
      ],
      "metadata": {
        "execution": {
          "iopub.status.busy": "2024-11-30T12:20:00.493698Z",
          "iopub.execute_input": "2024-11-30T12:20:00.494336Z",
          "iopub.status.idle": "2024-11-30T12:20:00.503856Z",
          "shell.execute_reply.started": "2024-11-30T12:20:00.494288Z",
          "shell.execute_reply": "2024-11-30T12:20:00.502489Z"
        },
        "trusted": true,
        "id": "OOFUHraUye7D"
      },
      "outputs": [],
      "execution_count": 24
    },
    {
      "cell_type": "code",
      "source": [
        "import pandas as pd\n",
        "\n",
        "def convert_data_types(df, categorical_vars, continuous_vars, discrete_vars, dummy_vars):\n",
        "    \"\"\"\n",
        "    데이터프레임의 열 타입을 지정된 변수 그룹에 따라 변환합니다.\n",
        "\n",
        "    Parameters:\n",
        "    - df (pd.DataFrame): 데이터 타입을 변환할 데이터프레임\n",
        "    - categorical_vars (list): 명목형 변수 목록\n",
        "    - continuous_vars (list): 연속형 변수 목록\n",
        "    - discrete_vars (list): 이산형 변수 목록\n",
        "    - dummy_vars (list): 더미 변수 목록 (0/1)\n",
        "\n",
        "    Returns:\n",
        "    - pd.DataFrame: 타입 변환이 완료된 데이터프레임\n",
        "    \"\"\"\n",
        "    # 명목형 변수 변환\n",
        "    if categorical_vars:\n",
        "        df[categorical_vars] = df[categorical_vars].astype('category')\n",
        "\n",
        "    # 연속형 변수 변환\n",
        "    if continuous_vars:\n",
        "        df[continuous_vars] = df[continuous_vars].astype('float')\n",
        "\n",
        "    # 이산형 변수 변환\n",
        "    if discrete_vars:\n",
        "        df[discrete_vars] = df[discrete_vars].replace([float('inf'), float('-inf')], float('nan'))  # 무한값 처리\n",
        "        df[discrete_vars] = df[discrete_vars].fillna(0).astype('float')  # NaN 처리 후 float 변환\n",
        "\n",
        "    # 더미 변수 변환\n",
        "    if dummy_vars:\n",
        "        df[dummy_vars] = df[dummy_vars].astype('int32')\n",
        "\n",
        "    # 변환 결과 반환\n",
        "    return df"
      ],
      "metadata": {
        "execution": {
          "iopub.status.busy": "2024-11-30T12:20:00.505376Z",
          "iopub.execute_input": "2024-11-30T12:20:00.505843Z",
          "iopub.status.idle": "2024-11-30T12:20:00.521606Z",
          "shell.execute_reply.started": "2024-11-30T12:20:00.505789Z",
          "shell.execute_reply": "2024-11-30T12:20:00.520474Z"
        },
        "trusted": true,
        "id": "3YtcGUgMye7E"
      },
      "outputs": [],
      "execution_count": 25
    },
    {
      "cell_type": "code",
      "source": [
        "train_df = convert_data_types(train_df, categorical_vars, continuous_vars, discrete_vars, dummy_vars)"
      ],
      "metadata": {
        "trusted": true,
        "execution": {
          "iopub.status.busy": "2024-11-30T12:20:00.523131Z",
          "iopub.execute_input": "2024-11-30T12:20:00.523948Z",
          "iopub.status.idle": "2024-11-30T12:20:00.674225Z",
          "shell.execute_reply.started": "2024-11-30T12:20:00.523899Z",
          "shell.execute_reply": "2024-11-30T12:20:00.673176Z"
        },
        "id": "1hH0p6Fvye7E"
      },
      "outputs": [],
      "execution_count": 26
    },
    {
      "cell_type": "code",
      "source": [
        "train_df = train_df.drop('Id', axis=1)"
      ],
      "metadata": {
        "execution": {
          "iopub.status.busy": "2024-11-30T12:20:00.677568Z",
          "iopub.execute_input": "2024-11-30T12:20:00.677934Z",
          "iopub.status.idle": "2024-11-30T12:20:00.703418Z",
          "shell.execute_reply.started": "2024-11-30T12:20:00.677901Z",
          "shell.execute_reply": "2024-11-30T12:20:00.70248Z"
        },
        "trusted": true,
        "id": "KZuI4Re4ye7E"
      },
      "outputs": [],
      "execution_count": 27
    },
    {
      "cell_type": "markdown",
      "source": [
        "## 결측값 처리 및 데이터 변환"
      ],
      "metadata": {
        "id": "Uid-W6RYye7E"
      }
    },
    {
      "cell_type": "markdown",
      "source": [
        "`Medical_History`, `Employment_Info`, `Insurance_History` 와 관련한 변수들은 Yeo-Johnson 변환을 수행함."
      ],
      "metadata": {
        "id": "pZiQEXpZye7E"
      }
    },
    {
      "cell_type": "markdown",
      "source": [
        "Missing data 처리는 아래 사항에 대한 판단부터 수행함.\n",
        "\n",
        "    MCAR (Missing Completely At Random) - 완전히 무작위로 결측\n",
        "    MAR (Missing At Random) - 무작위 아님\n",
        "    MNAR (Missing Not At Random) - 무작위가 아님\n",
        "    \n",
        "MCAR의 여부는 Little's MCAR 테스트를 수행하여 알 수 있음. MAR, MNAR의 구분은 도메인 지식을 기반하여 구분하는 것이 일반적임.\n",
        "\n",
        "데이터는 크게 아래와 같이 구분됨. 대분류 내의 변수 간에서만 Missing 여부에 상관관계가 있는 것인지 파악 필요함.\n",
        "\n",
        "| **Variable** | **Description** |\n",
        "| --- | --- |\n",
        "| Id | A unique identifier associated with an application. |\n",
        "| Product_Info_1-7 | A set of normalized variables relating to the product applied for |\n",
        "| Ins_Age | Normalized age of applicant |\n",
        "| Ht | Normalized height of applicant |\n",
        "| Wt | Normalized weight of applicant |\n",
        "| BMI | Normalized BMI of applicant |\n",
        "| Employment_Info_1-6 | A set of normalized variables relating to the employment history of the applicant. |\n",
        "| InsuredInfo_1-6 | A set of normalized variables providing information about the applicant. |\n",
        "| Insurance_History_1-9 | A set of normalized variables relating to the insurance history of the applicant. |\n",
        "| Family_Hist_1-5 | A set of normalized variables relating to the family history of the applicant. |\n",
        "| Medical_History_1-41 | A set of normalized variables relating to the medical history of the applicant. |\n",
        "| Medical_Keyword_1-48 | A set of dummy variables relating to the presence of/absence of a medical keyword being associated with the application. |\n",
        "| Response | This is the target variable, an ordinal variable relating to the final decision associated with an application |"
      ],
      "metadata": {
        "id": "mxA-H8vJye7F"
      }
    },
    {
      "cell_type": "code",
      "source": [
        "import pandas as pd\n",
        "\n",
        "def missing_values_table(df, dropna=True, sort=True, ascending=False, top=None):\n",
        "    \"\"\"\n",
        "    데이터프레임의 각 열에 대한 결측값 수와 비율을 계산하여 반환합니다.\n",
        "\n",
        "    Parameters:\n",
        "    -----------\n",
        "    df : pandas.DataFrame\n",
        "        분석할 데이터프레임.\n",
        "\n",
        "    dropna : bool, default=True\n",
        "        True인 경우, 결측값이 없는 열을 제외합니다.\n",
        "\n",
        "    sort : bool, default=True\n",
        "        True인 경우, 결측값 비율에 따라 내림차순으로 정렬합니다.\n",
        "\n",
        "    ascending : bool, default=False\n",
        "        sort가 True일 때, 정렬 순서를 결정합니다. False는 내림차순, True는 오름차순.\n",
        "\n",
        "    top : int, default=None\n",
        "        상위 N개의 결과만 표시합니다. None인 경우, 모든 결과를 표시합니다.\n",
        "\n",
        "    Returns:\n",
        "    --------\n",
        "    missing_data : pandas.DataFrame\n",
        "        각 열의 결측값 수와 비율을 포함한 데이터프레임.\n",
        "\n",
        "    Examples:\n",
        "    ---------\n",
        "    >>> missing_values_table(df)\n",
        "    >>> missing_values_table(df, dropna=False, sort=False)\n",
        "    >>> missing_values_table(df, top=10)\n",
        "    \"\"\"\n",
        "    # 전체 행 수 계산\n",
        "    total = df.shape[0]\n",
        "\n",
        "    # 각 열의 결측값 수 계산\n",
        "    missing_counts = df.isnull().sum()\n",
        "\n",
        "    # 각 열의 결측값 비율 계산\n",
        "    missing_percent = (missing_counts / total) * 100\n",
        "\n",
        "    # 결과를 데이터프레임으로 통합\n",
        "    missing_data = pd.DataFrame({\n",
        "        'Missing Count': missing_counts,\n",
        "        'Missing Percentage (%)': missing_percent\n",
        "    })\n",
        "\n",
        "    # 결측값이 있는 열만 필터링 (dropna=True인 경우)\n",
        "    if dropna:\n",
        "        missing_data = missing_data[missing_data['Missing Count'] > 0]\n",
        "\n",
        "    # 정렬 (sort=True인 경우)\n",
        "    if sort:\n",
        "        missing_data = missing_data.sort_values(by='Missing Percentage (%)', ascending=ascending)\n",
        "\n",
        "    # 상위 N개만 표시 (top 지정한 경우)\n",
        "    if top is not None:\n",
        "        missing_data = missing_data.head(top)\n",
        "\n",
        "    return missing_data\n"
      ],
      "metadata": {
        "execution": {
          "iopub.status.busy": "2024-11-30T12:20:00.704877Z",
          "iopub.execute_input": "2024-11-30T12:20:00.70555Z",
          "iopub.status.idle": "2024-11-30T12:20:00.71355Z",
          "shell.execute_reply.started": "2024-11-30T12:20:00.705503Z",
          "shell.execute_reply": "2024-11-30T12:20:00.712606Z"
        },
        "trusted": true,
        "id": "dp2ur2yHye7F"
      },
      "outputs": [],
      "execution_count": 28
    },
    {
      "cell_type": "code",
      "source": [
        "missing_data = missing_values_table(train_df)"
      ],
      "metadata": {
        "execution": {
          "iopub.status.busy": "2024-11-30T12:20:00.714966Z",
          "iopub.execute_input": "2024-11-30T12:20:00.715353Z",
          "iopub.status.idle": "2024-11-30T12:20:00.746925Z",
          "shell.execute_reply.started": "2024-11-30T12:20:00.715305Z",
          "shell.execute_reply": "2024-11-30T12:20:00.746042Z"
        },
        "trusted": true,
        "id": "JEk8RxuPye7F"
      },
      "outputs": [],
      "execution_count": 29
    },
    {
      "cell_type": "code",
      "source": [
        "import missingno as msno\n",
        "import matplotlib.pyplot as plt\n",
        "\n",
        "missing_cols = missing_data.index.values\n",
        "\n",
        "# 결측치 히트맵\n",
        "msno.matrix(train_df[missing_cols])\n",
        "plt.show()\n"
      ],
      "metadata": {
        "execution": {
          "iopub.status.busy": "2024-11-30T12:20:00.748191Z",
          "iopub.execute_input": "2024-11-30T12:20:00.748516Z",
          "iopub.status.idle": "2024-11-30T12:20:01.554905Z",
          "shell.execute_reply.started": "2024-11-30T12:20:00.748483Z",
          "shell.execute_reply": "2024-11-30T12:20:01.553719Z"
        },
        "trusted": true,
        "colab": {
          "base_uri": "https://localhost:8080/",
          "height": 733
        },
        "id": "vGaNd5I8ye7F",
        "outputId": "27d94a09-0dab-49d0-fce6-dd71665db046"
      },
      "outputs": [
        {
          "output_type": "display_data",
          "data": {
            "text/plain": [
              "<Figure size 2500x1000 with 2 Axes>"
            ],
            "image/png": "[encoded data removed]"
          },
          "metadata": {}
        }
      ],
      "execution_count": 30
    },
    {
      "cell_type": "markdown",
      "source": [
        "Family_Hist 변수 간 Missing 에는 상관관계가 있는 것처럼 보임."
      ],
      "metadata": {
        "id": "aSgtwbY4ye7G"
      }
    },
    {
      "cell_type": "code",
      "source": [
        "# 결측치 상관관계 히트맵\n",
        "msno.heatmap(train_df)\n",
        "plt.show()"
      ],
      "metadata": {
        "execution": {
          "iopub.status.busy": "2024-11-30T12:20:01.556511Z",
          "iopub.execute_input": "2024-11-30T12:20:01.556848Z",
          "iopub.status.idle": "2024-11-30T12:20:02.063778Z",
          "shell.execute_reply.started": "2024-11-30T12:20:01.556814Z",
          "shell.execute_reply": "2024-11-30T12:20:02.062707Z"
        },
        "trusted": true,
        "colab": {
          "base_uri": "https://localhost:8080/",
          "height": 1000
        },
        "id": "lf27CDL3ye7G",
        "outputId": "94c6fa94-a192-41ba-f1da-396638633ed0"
      },
      "outputs": [
        {
          "output_type": "display_data",
          "data": {
            "text/plain": [
              "<Figure size 2000x1200 with 2 Axes>"
            ],
            "image/png": "[encoded data removed]"
          },
          "metadata": {}
        }
      ],
      "execution_count": 31
    },
    {
      "cell_type": "markdown",
      "source": [
        "    Employment_Info_1: 중간값 대체\n",
        "    Family_Hist_1~5, Insurance_History_5, Employment_Info_4, Employment_Info_6, Medical_History_1 : MICE 대체\n"
      ],
      "metadata": {
        "id": "h9FNbunQye7G"
      }
    },
    {
      "cell_type": "code",
      "source": [
        "# 불필요한 열 제거\n",
        "X_train_full = train_df.drop(['Response'], axis=1)\n",
        "y_train = train_df['Response']"
      ],
      "metadata": {
        "execution": {
          "iopub.status.busy": "2024-11-30T12:20:02.065083Z",
          "iopub.execute_input": "2024-11-30T12:20:02.065398Z",
          "iopub.status.idle": "2024-11-30T12:20:02.089871Z",
          "shell.execute_reply.started": "2024-11-30T12:20:02.065366Z",
          "shell.execute_reply": "2024-11-30T12:20:02.088737Z"
        },
        "trusted": true,
        "id": "DKl5788bye7G"
      },
      "outputs": [],
      "execution_count": 32
    },
    {
      "cell_type": "code",
      "source": [
        "# 필요한 라이브러리 임포트\n",
        "import pandas as pd\n",
        "from sklearn.pipeline import Pipeline\n",
        "from sklearn.compose import ColumnTransformer\n",
        "from sklearn.experimental import enable_iterative_imputer\n",
        "from sklearn.impute import SimpleImputer, KNNImputer, IterativeImputer\n",
        "from sklearn.preprocessing import PowerTransformer\n",
        "import sklearn\n",
        "\n",
        "# 1. 결측치 대체를 위한 열 그룹화\n",
        "knn_impute_cols = ['Employment_Info_1', 'Employment_Info_4', 'Employment_Info_6']\n",
        "mice_impute_cols = [\n",
        "    'Family_Hist_1', 'Family_Hist_2', 'Family_Hist_3',\n",
        "    'Family_Hist_4', 'Family_Hist_5', 'Insurance_History_5'\n",
        "]\n",
        "\n",
        "# 2. Imputer 정의\n",
        "knn_imputer = KNNImputer(n_neighbors=2)\n",
        "mice_imputer = IterativeImputer(random_state=0)\n",
        "# Yeo-Johnson 변환기\n",
        "# yeo_johnson_transformer = PowerTransformer(method='yeo-johnson')\n",
        "\n",
        "# 3. ColumnTransformer 설정\n",
        "preprocessor = ColumnTransformer(\n",
        "    transformers=[\n",
        "        ('knn_impute', knn_imputer, knn_impute_cols),\n",
        "        ('mice_impute', mice_imputer, mice_impute_cols),\n",
        "    ],\n",
        "    remainder='passthrough',\n",
        "    verbose_feature_names_out=False  # scikit-learn 1.2+에서 사용 가능\n",
        ")\n",
        "\n",
        "# 4. 전체 Pipeline 설정\n",
        "pipeline = Pipeline(steps=[\n",
        "    ('preprocessor', preprocessor)\n",
        "])\n",
        "\n",
        "# 5. 파이프라인을 데이터에 적용\n",
        "X_train_imputed = pipeline.fit_transform(X_train_full)\n",
        "\n",
        "# 6. 결과를 데이터프레임으로 변환\n",
        "if sklearn.__version__ >= '1.2':\n",
        "    feature_names = preprocessor.get_feature_names_out()\n",
        "else:\n",
        "    try:\n",
        "        feature_names = preprocessor.get_feature_names()\n",
        "    except AttributeError:\n",
        "        feature_names = X_train_full.columns  # 임시로 원본 열 이름 사용\n",
        "\n",
        "# 7. 데이터프레임으로 변환\n",
        "X_train_imputed = pd.DataFrame(X_train_imputed, columns=feature_names)\n",
        "# 원본 열 순서대로 재정렬\n",
        "X_train_imputed = X_train_imputed[X_train_full.columns]"
      ],
      "metadata": {
        "execution": {
          "iopub.status.busy": "2024-11-30T12:20:02.091281Z",
          "iopub.execute_input": "2024-11-30T12:20:02.091599Z",
          "iopub.status.idle": "2024-11-30T12:20:58.490871Z",
          "shell.execute_reply.started": "2024-11-30T12:20:02.091568Z",
          "shell.execute_reply": "2024-11-30T12:20:58.489619Z"
        },
        "trusted": true,
        "id": "gB-NEi7yye7H"
      },
      "outputs": [],
      "execution_count": 33
    },
    {
      "cell_type": "code",
      "source": [
        "X_train_imputed = convert_data_types(X_train_imputed, categorical_vars, continuous_vars, discrete_vars, dummy_vars)"
      ],
      "metadata": {
        "execution": {
          "iopub.status.busy": "2024-11-30T12:20:58.492131Z",
          "iopub.execute_input": "2024-11-30T12:20:58.492457Z",
          "iopub.status.idle": "2024-11-30T12:20:59.027951Z",
          "shell.execute_reply.started": "2024-11-30T12:20:58.492426Z",
          "shell.execute_reply": "2024-11-30T12:20:59.026812Z"
        },
        "trusted": true,
        "colab": {
          "base_uri": "https://localhost:8080/"
        },
        "id": "ufkzwRqIye7H",
        "outputId": "bb76f4f3-941d-4d1d-c5ca-2f6b050d2100"
      },
      "outputs": [
        {
          "output_type": "stream",
          "name": "stderr",
          "text": [
            "<ipython-input-25-15558396798a>:27: FutureWarning: Downcasting behavior in `replace` is deprecated and will be removed in a future version. To retain the old behavior, explicitly call `result.infer_objects(copy=False)`. To opt-in to the future behavior, set `pd.set_option('future.no_silent_downcasting', True)`\n",
            "  df[discrete_vars] = df[discrete_vars].replace([float('inf'), float('-inf')], float('nan'))  # 무한값 처리\n"
          ]
        }
      ],
      "execution_count": 34
    },
    {
      "cell_type": "code",
      "source": [
        "from sklearn.preprocessing import OneHotEncoder\n",
        "\n",
        "# Initialize OneHotEncoder\n",
        "encoder = OneHotEncoder(handle_unknown='ignore', sparse_output=False) # Set sparse_output to False\n",
        "\n",
        "# Fit the encoder on the train data and transform\n",
        "encoded_train = encoder.fit_transform(X_train_imputed[categorical_vars])\n",
        "\n",
        "# Convert encoded arrays back to DataFrame\n",
        "encoded_train_df = pd.DataFrame(encoded_train, columns=encoder.get_feature_names_out(categorical_vars))\n",
        "\n",
        "# Add back non-categorical columns to the final DataFrame\n",
        "X_train_encoded = pd.concat([X_train_imputed.reset_index(drop=True), encoded_train_df], axis=1).drop(columns=categorical_vars)"
      ],
      "metadata": {
        "execution": {
          "iopub.status.busy": "2024-11-30T12:20:59.029309Z",
          "iopub.execute_input": "2024-11-30T12:20:59.029651Z",
          "iopub.status.idle": "2024-11-30T12:21:01.022206Z",
          "shell.execute_reply.started": "2024-11-30T12:20:59.029596Z",
          "shell.execute_reply": "2024-11-30T12:21:01.021341Z"
        },
        "trusted": true,
        "id": "7gAM5IKmye7H"
      },
      "outputs": [],
      "execution_count": 39
    },
    {
      "cell_type": "code",
      "source": [
        "# Results\n",
        "print(\"Encoded Train DataFrame:\")\n",
        "print(X_train_encoded.shape)\n"
      ],
      "metadata": {
        "execution": {
          "iopub.status.busy": "2024-11-30T12:21:01.023318Z",
          "iopub.execute_input": "2024-11-30T12:21:01.023621Z",
          "iopub.status.idle": "2024-11-30T12:21:01.028917Z",
          "shell.execute_reply.started": "2024-11-30T12:21:01.023591Z",
          "shell.execute_reply": "2024-11-30T12:21:01.02792Z"
        },
        "trusted": true,
        "colab": {
          "base_uri": "https://localhost:8080/"
        },
        "id": "sZGSRRpqye7H",
        "outputId": "c0a2470d-afe2-4259-ace0-ab55728bd155"
      },
      "outputs": [
        {
          "output_type": "stream",
          "name": "stdout",
          "text": [
            "Encoded Train DataFrame:\n",
            "(59381, 895)\n"
          ]
        }
      ],
      "execution_count": 40
    },
    {
      "cell_type": "markdown",
      "source": [
        "## 모델링"
      ],
      "metadata": {
        "id": "7hnamJkvye7I"
      }
    },
    {
      "cell_type": "code",
      "source": [
        "from sklearn.model_selection import train_test_split\n",
        "# 1. 데이터 분할 (훈련 세트와 검증 세트)\n",
        "X_train, X_val, y_train_split, y_val = train_test_split(\n",
        "    X_train_encoded, y_train, test_size=0.2, random_state=42, stratify=y_train\n",
        ")\n",
        "print(\"\\n학습 세트 특징 데이터의 형태:\", X_train.shape)\n",
        "print(\"검증 세트 특징 데이터의 형태:\", X_val.shape)"
      ],
      "metadata": {
        "execution": {
          "iopub.status.busy": "2024-11-30T12:21:01.030195Z",
          "iopub.execute_input": "2024-11-30T12:21:01.030499Z",
          "iopub.status.idle": "2024-11-30T12:21:01.382054Z",
          "shell.execute_reply.started": "2024-11-30T12:21:01.030469Z",
          "shell.execute_reply": "2024-11-30T12:21:01.380895Z"
        },
        "trusted": true,
        "colab": {
          "base_uri": "https://localhost:8080/"
        },
        "id": "ZC-4fdjkye7I",
        "outputId": "d6a658c9-0067-45da-9b88-7e00b4dfcbee"
      },
      "outputs": [
        {
          "output_type": "stream",
          "name": "stdout",
          "text": [
            "\n",
            "학습 세트 특징 데이터의 형태: (47504, 895)\n",
            "검증 세트 특징 데이터의 형태: (11877, 895)\n"
          ]
        }
      ],
      "execution_count": 41
    },
    {
      "cell_type": "code",
      "source": [
        "from sklearn.metrics import accuracy_score, confusion_matrix, classification_report, cohen_kappa_score\n",
        "\n",
        "def evaluate_model(model, X_test, y_test):\n",
        "    \"\"\"\n",
        "    모델의 성능을 평가하고 결과를 출력합니다.\n",
        "\n",
        "    Parameters:\n",
        "    -----------\n",
        "    model : sklearn 모델\n",
        "        학습된 머신러닝 모델.\n",
        "    X_test : pandas.DataFrame or numpy.ndarray\n",
        "        테스트 세트의 특징 데이터.\n",
        "    y_test : pandas.Series or numpy.ndarray\n",
        "        테스트 세트의 실제 레이블.\n",
        "    \"\"\"\n",
        "    # 예측 수행\n",
        "    y_pred = model.predict(X_test)\n",
        "\n",
        "    # Cohen's Kappa 계산\n",
        "    kappa = cohen_kappa_score(y_test, y_pred)\n",
        "\n",
        "    # 평가 결과 출력\n",
        "    print(f\"\\nCohen's Kappa (𝜅): {kappa:.4f}\")\n",
        "    print(\"\\n혼동 행렬 (Confusion Matrix):\")\n",
        "    print(confusion_matrix(y_test, y_pred))\n",
        "    print(\"\\n분류 보고서 (Classification Report):\")\n",
        "    print(classification_report(y_test, y_pred))\n"
      ],
      "metadata": {
        "execution": {
          "iopub.status.busy": "2024-11-30T12:21:01.383329Z",
          "iopub.execute_input": "2024-11-30T12:21:01.383685Z",
          "iopub.status.idle": "2024-11-30T12:21:01.390215Z",
          "shell.execute_reply.started": "2024-11-30T12:21:01.383616Z",
          "shell.execute_reply": "2024-11-30T12:21:01.389106Z"
        },
        "trusted": true,
        "id": "Y5NvI9tKye7I"
      },
      "outputs": [],
      "execution_count": 42
    },
    {
      "cell_type": "code",
      "source": [
        "import optuna\n",
        "from sklearn.ensemble import RandomForestClassifier\n",
        "from sklearn.model_selection import cross_val_score"
      ],
      "metadata": {
        "trusted": true,
        "execution": {
          "iopub.status.busy": "2024-11-30T12:21:01.391493Z",
          "iopub.execute_input": "2024-11-30T12:21:01.391833Z",
          "iopub.status.idle": "2024-11-30T12:21:01.772022Z",
          "shell.execute_reply.started": "2024-11-30T12:21:01.391802Z",
          "shell.execute_reply": "2024-11-30T12:21:01.77099Z"
        },
        "id": "WRmn9BxEye7I"
      },
      "outputs": [],
      "execution_count": 43
    },
    {
      "cell_type": "code",
      "source": [
        "def objective(trial):\n",
        "    # 하이퍼파라미터 공간 정의\n",
        "    n_estimators = trial.suggest_int('n_estimators', 100, 1000)\n",
        "    max_depth = trial.suggest_int('max_depth', 10, 110)\n",
        "    min_samples_split = trial.suggest_int('min_samples_split', 2, 10)\n",
        "    min_samples_leaf = trial.suggest_int('min_samples_leaf', 1, 4)\n",
        "\n",
        "    # 모델 초기화\n",
        "    rf = RandomForestClassifier(\n",
        "        n_estimators=n_estimators,\n",
        "        max_depth=max_depth,\n",
        "        min_samples_split=min_samples_split,\n",
        "        min_samples_leaf=min_samples_leaf,\n",
        "        random_state=42,\n",
        "        n_jobs=-1,\n",
        "        class_weight='balanced'  # 클래스 불균형을 자동으로 처리\n",
        "    )\n",
        "\n",
        "    # 모델 학습\n",
        "    rf.fit(X_train, y_train_split)\n",
        "\n",
        "    # 예측\n",
        "    y_pred = rf.predict(X_val)\n",
        "\n",
        "    # 평가 지표 선택 (예: F1-score)\n",
        "    score = cross_val_score(rf, X_train, y_train_split, cv=3, scoring='f1').mean()\n",
        "\n",
        "    return score\n",
        "\n",
        "# 스터디 생성 (TPE가 기본)\n",
        "study = optuna.create_study(direction='maximize',  pruner=optuna.pruners.MedianPruner())\n",
        "\n",
        "# 최적화 수행\n",
        "study.optimize(objective, n_trials=10, timeout=600)\n",
        "\n",
        "# 최적의 하이퍼파라미터 출력\n",
        "print(\"최적의 하이퍼파라미터:\", study.best_params)\n",
        "print(\"최고 정확도:\", study.best_value)"
      ],
      "metadata": {
        "trusted": true,
        "execution": {
          "iopub.status.busy": "2024-11-30T07:21:51.685108Z",
          "iopub.execute_input": "2024-11-30T07:21:51.685639Z",
          "iopub.status.idle": "2024-11-30T07:32:50.09343Z",
          "shell.execute_reply.started": "2024-11-30T07:21:51.685593Z",
          "shell.execute_reply": "2024-11-30T07:32:50.092215Z"
        },
        "colab": {
          "base_uri": "https://localhost:8080/"
        },
        "id": "ObVF4afiye7I",
        "outputId": "873f3f80-44b8-414a-86ab-e92e9d4fb479"
      },
      "outputs": [
        {
          "metadata": {
            "tags": null
          },
          "name": "stderr",
          "output_type": "stream",
          "text": [
            "[I 2025-04-04 12:47:48,488] A new study created in memory with name: no-name-86170794-bace-40fb-adce-b6ea352001eb\n",
            "[I 2025-04-04 12:53:19,519] Trial 0 finished with value: 0.3498908290045144 and parameters: {'n_estimators': 892, 'max_depth': 49, 'min_samples_split': 7, 'min_samples_leaf': 4}. Best is trial 0 with value: 0.3498908290045144.\n",
            "[I 2025-04-04 12:56:29,578] Trial 1 finished with value: 0.30968238583747193 and parameters: {'n_estimators': 517, 'max_depth': 50, 'min_samples_split': 4, 'min_samples_leaf': 3}. Best is trial 0 with value: 0.3498908290045144.\n",
            "[I 2025-04-04 12:59:43,360] Trial 2 finished with value: 0.3109188674841712 and parameters: {'n_estimators': 534, 'max_depth': 108, 'min_samples_split': 2, 'min_samples_leaf': 3}. Best is trial 0 with value: 0.3498908290045144.\n"
          ]
        },
        {
          "metadata": {
            "tags": null
          },
          "name": "stdout",
          "output_type": "stream",
          "text": [
            "최적의 하이퍼파라미터: {'n_estimators': 892, 'max_depth': 49, 'min_samples_split': 7, 'min_samples_leaf': 4}\n",
            "최고 정확도: 0.3498908290045144\n"
          ]
        }
      ],
      "execution_count": 44
    },
    {
      "cell_type": "code",
      "source": [
        "# 최적의 모델로 평가 수행\n",
        "best_rf = RandomForestClassifier(\n",
        "    n_estimators=study.best_params['n_estimators'],\n",
        "    max_depth=study.best_params['max_depth'],\n",
        "    min_samples_split=study.best_params['min_samples_split'],\n",
        "    min_samples_leaf=study.best_params['min_samples_leaf'],\n",
        "    random_state=42,\n",
        "    n_jobs=-1,\n",
        "    class_weight='balanced'\n",
        ")\n",
        "\n",
        "best_rf.fit(X_train, y_train_split)\n",
        "\n",
        "evaluate_model(best_rf, X_val, y_val)"
      ],
      "metadata": {
        "trusted": true,
        "execution": {
          "iopub.status.busy": "2024-11-30T07:32:50.095836Z",
          "iopub.execute_input": "2024-11-30T07:32:50.096257Z",
          "iopub.status.idle": "2024-11-30T07:33:59.036581Z",
          "shell.execute_reply.started": "2024-11-30T07:32:50.09622Z",
          "shell.execute_reply": "2024-11-30T07:33:59.035358Z"
        },
        "colab": {
          "base_uri": "https://localhost:8080/"
        },
        "id": "OG01Pm5Vye7J",
        "outputId": "a2817936-c3fb-45b8-f2a4-104ad4888bf0"
      },
      "outputs": [
        {
          "metadata": {
            "tags": null
          },
          "name": "stdout",
          "output_type": "stream",
          "text": [
            "\n",
            "Cohen's Kappa (𝜅): 0.3220\n",
            "\n",
            "혼동 행렬 (Confusion Matrix):\n",
            "[[10000   636]\n",
            " [  789   452]]\n",
            "\n",
            "분류 보고서 (Classification Report):\n",
            "              precision    recall  f1-score   support\n",
            "\n",
            "           0       0.93      0.94      0.93     10636\n",
            "           1       0.42      0.36      0.39      1241\n",
            "\n",
            "    accuracy                           0.88     11877\n",
            "   macro avg       0.67      0.65      0.66     11877\n",
            "weighted avg       0.87      0.88      0.88     11877\n",
            "\n"
          ]
        }
      ],
      "execution_count": 45
    },
    {
      "cell_type": "code",
      "source": [
        "from sklearn.linear_model import LogisticRegression\n",
        "\n",
        "def objective(trial):\n",
        "    # 하이퍼파라미터 공간 정의\n",
        "    C = trial.suggest_float('C', 1e-4, 1e4, log=True)\n",
        "\n",
        "    # Logistic Regression 모델 초기화\n",
        "    try:\n",
        "        model = LogisticRegression(\n",
        "            C=C,\n",
        "            penalty='l1',\n",
        "            solver='saga',\n",
        "            class_weight='balanced',\n",
        "            max_iter=1000,\n",
        "            random_state=42,\n",
        "            n_jobs=-1\n",
        "        )\n",
        "    except ValueError:\n",
        "        # 일부 solver와 penalty 조합은 유효하지 않을 수 있음\n",
        "        return -np.inf  # 최적화 과정에서 제외\n",
        "\n",
        "    # 모델 학습\n",
        "    model.fit(X_train, y_train_split)\n",
        "\n",
        "    # 예측\n",
        "    y_pred = model.predict(X_val)\n",
        "\n",
        "    # 평가 지표 선택 (예: F1-score)\n",
        "    score = cross_val_score(model, X_train, y_train_split, cv=3, scoring='f1').mean()\n",
        "\n",
        "    return score\n",
        "\n",
        "# 스터디 생성 (최대화를 목표로 함)\n",
        "study = optuna.create_study(direction='maximize', pruner=optuna.pruners.MedianPruner())\n",
        "\n",
        "# 최적화 수행\n",
        "study.optimize(objective, n_trials=10, timeout=600)  # n_trials와 timeout은 필요에 따라 조정"
      ],
      "metadata": {
        "trusted": true,
        "execution": {
          "iopub.status.busy": "2024-11-30T07:33:59.038075Z",
          "iopub.execute_input": "2024-11-30T07:33:59.038462Z",
          "iopub.status.idle": "2024-11-30T08:11:31.097379Z",
          "shell.execute_reply.started": "2024-11-30T07:33:59.038427Z",
          "shell.execute_reply": "2024-11-30T08:11:31.095457Z"
        },
        "colab": {
          "base_uri": "https://localhost:8080/"
        },
        "id": "aIqPQ60wye7J",
        "outputId": "779419d9-881b-425b-e962-8b1b47388b5d"
      },
      "outputs": [
        {
          "metadata": {
            "tags": null
          },
          "name": "stderr",
          "output_type": "stream",
          "text": [
            "[I 2025-04-04 13:01:32,384] A new study created in memory with name: no-name-f87887bb-d6db-455a-b7c3-9816f5d2f219\n",
            "/usr/local/lib/python3.11/dist-packages/sklearn/linear_model/_sag.py:348: ConvergenceWarning: The max_iter was reached which means the coef_ did not converge\n",
            "  warnings.warn(\n",
            "/usr/local/lib/python3.11/dist-packages/sklearn/linear_model/_sag.py:348: ConvergenceWarning: The max_iter was reached which means the coef_ did not converge\n",
            "  warnings.warn(\n"
          ]
        }
      ],
      "execution_count": null
    },
    {
      "cell_type": "code",
      "source": [
        "# 최적의 하이퍼파라미터로 모델 재학습\n",
        "best_params = study.best_params\n",
        "best_lr = LogisticRegression(\n",
        "    C=best_params['C'],\n",
        "    random_state=42,\n",
        "    n_jobs=-1,\n",
        "    class_weight='balanced',\n",
        "    solver='saga',\n",
        "    penalty='l1'\n",
        ")\n",
        "\n",
        "# 전체 학습 데이터로 재학습 (필요에 따라)\n",
        "best_lr.fit(X_train, y_train_split)\n",
        "\n",
        "# 모델 평가\n",
        "print(\"\\n로지스틱 회귀 모델 평가:\")\n",
        "evaluate_model(best_lr, X_val, y_val)"
      ],
      "metadata": {
        "trusted": true,
        "execution": {
          "iopub.status.busy": "2024-11-30T08:11:31.103512Z",
          "iopub.execute_input": "2024-11-30T08:11:31.104629Z",
          "iopub.status.idle": "2024-11-30T08:12:49.273168Z",
          "shell.execute_reply.started": "2024-11-30T08:11:31.104562Z",
          "shell.execute_reply": "2024-11-30T08:12:49.268548Z"
        },
        "id": "SoKkXV2mye7Q"
      },
      "outputs": [],
      "execution_count": null
    },
    {
      "cell_type": "code",
      "source": [
        "from sklearn.svm import LinearSVC\n",
        "\n",
        "def objective(trial):\n",
        "    # 하이퍼파라미터 공간 정의\n",
        "    C = trial.suggest_float('C', 1e-4, 1e4, log=True)\n",
        "    max_iter = trial.suggest_int('max_iter', 100, 1000)\n",
        "    loss = trial.suggest_categorical('loss', ['hinge', 'squared_hinge'])\n",
        "\n",
        "    # LinearSVC 모델 초기화\n",
        "    try:\n",
        "        model = LinearSVC(\n",
        "            C=C,\n",
        "            loss=loss,\n",
        "            class_weight='balanced',\n",
        "            max_iter=max_iter,\n",
        "            random_state=42\n",
        "        )\n",
        "    except ValueError:\n",
        "        # 일부 하이퍼파라미터 조합은 유효하지 않을 수 있음\n",
        "        return -np.inf  # Optuna가 이 시도를 무시하게 함\n",
        "\n",
        "    # 모델 학습\n",
        "    model.fit(X_train, y_train_split)\n",
        "\n",
        "    # 예측\n",
        "    y_pred = model.predict(X_val)\n",
        "\n",
        "    # 평가 지표 선택 (예: F1-score)\n",
        "    score = cross_val_score(model, X_train, y_train_split, cv=3, scoring='f1').mean()\n",
        "\n",
        "    return score\n",
        "\n",
        "# 스터디 생성 (최대화를 목표로 함)\n",
        "study = optuna.create_study(direction='maximize', pruner=optuna.pruners.MedianPruner())\n",
        "\n",
        "# 최적화 수행\n",
        "study.optimize(objective, n_trials=10, timeout=600)  # n_trials와 timeout은 필요에 따라 조정\n",
        "\n",
        "# 최적의 하이퍼파라미터 출력\n",
        "print(\"최적의 하이퍼파라미터:\", study.best_params)\n",
        "print(\"최고 Cohen's Kappa:\", study.best_value)"
      ],
      "metadata": {
        "trusted": true,
        "execution": {
          "iopub.status.busy": "2024-11-30T09:10:37.353678Z",
          "iopub.execute_input": "2024-11-30T09:10:37.354856Z",
          "iopub.status.idle": "2024-11-30T09:18:01.794041Z",
          "shell.execute_reply.started": "2024-11-30T09:10:37.354807Z",
          "shell.execute_reply": "2024-11-30T09:18:01.79163Z"
        },
        "collapsed": true,
        "jupyter": {
          "outputs_hidden": true
        },
        "id": "JtU1cg1tye7Q"
      },
      "outputs": [],
      "execution_count": null
    },
    {
      "cell_type": "code",
      "source": [
        "# 최적의 하이퍼파라미터로 모델 재학습\n",
        "best_params = study.best_params\n",
        "loss = best_params['loss']\n",
        "C = best_params['C']\n",
        "max_iter = best_params['max_iter']\n",
        "\n",
        "best_svm = LinearSVC(\n",
        "    C=C,\n",
        "    loss=loss,\n",
        "    class_weight='balanced',\n",
        "    max_iter=max_iter,\n",
        "    random_state=42\n",
        ")\n",
        "\n",
        "# 전체 학습 데이터로 재학습 (필요에 따라)\n",
        "best_svm.fit(X_train, y_train_split)\n",
        "\n",
        "# 모델 평가\n",
        "print(\"\\n최적화된 LinearSVC 모델 평가:\")\n",
        "evaluate_model(best_svm, X_val, y_val)"
      ],
      "metadata": {
        "trusted": true,
        "execution": {
          "iopub.status.busy": "2024-11-30T09:35:13.312202Z",
          "iopub.execute_input": "2024-11-30T09:35:13.314656Z",
          "iopub.status.idle": "2024-11-30T09:35:31.094385Z",
          "shell.execute_reply.started": "2024-11-30T09:35:13.314581Z",
          "shell.execute_reply": "2024-11-30T09:35:31.092723Z"
        },
        "id": "HAJHgSxrye7R"
      },
      "outputs": [],
      "execution_count": null
    },
    {
      "cell_type": "code",
      "source": [
        "from lightgbm import LGBMClassifier\n",
        "from sklearn.model_selection import cross_val_score\n",
        "from optuna.integration import LightGBMPruningCallback\n",
        "\n",
        "def objective(trial):\n",
        "    # 하이퍼파라미터 공간 정의\n",
        "    param = {\n",
        "        'num_leaves': trial.suggest_int('num_leaves', 20, 150),\n",
        "        'learning_rate': trial.suggest_loguniform('learning_rate', 1e-4, 1e-1),\n",
        "        'n_estimators': trial.suggest_int('n_estimators', 100, 1000),\n",
        "        'max_depth': trial.suggest_int('max_depth', 3, 15),\n",
        "        'min_child_samples': trial.suggest_int('min_child_samples', 5, 100),\n",
        "        'subsample': trial.suggest_float('subsample', 0.5, 1.0),\n",
        "        'colsample_bytree': trial.suggest_float('colsample_bytree', 0.5, 1.0),\n",
        "        'reg_alpha': trial.suggest_loguniform('reg_alpha', 1e-4, 10.0),\n",
        "        'reg_lambda': trial.suggest_loguniform('reg_lambda', 1e-4, 10.0),\n",
        "        'class_weight':'balanced',\n",
        "        'random_state': 42,\n",
        "        'n_jobs': -1\n",
        "    }\n",
        "\n",
        "    # LGBMClassifier 모델 초기화\n",
        "    model = LGBMClassifier(**param)\n",
        "\n",
        "    model.fit(X_train, y_train_split)\n",
        "\n",
        "    # 예측\n",
        "    y_pred = model.predict(X_val)\n",
        "\n",
        "    # 평가 지표 선택 (예: F1-score)\n",
        "    score = cross_val_score(model, X_train, y_train_split, cv=3, scoring='f1').mean()\n",
        "\n",
        "    return score\n",
        "\n",
        "\n",
        "# 스터디 생성 (최대화를 목표로 함)\n",
        "study = optuna.create_study(direction='maximize', pruner=optuna.pruners.MedianPruner())\n",
        "\n",
        "# 최적화 수행\n",
        "study.optimize(objective, n_trials=100, timeout=600, gc_after_trial=True)\n",
        "\n",
        "# 최적의 하이퍼파라미터 출력\n",
        "print(\"최적의 하이퍼파라미터:\", study.best_params)\n",
        "print(\"최고 Cohen's Kappa:\", study.best_value)"
      ],
      "metadata": {
        "trusted": true,
        "execution": {
          "iopub.status.busy": "2024-11-30T08:47:36.193835Z",
          "iopub.execute_input": "2024-11-30T08:47:36.194411Z",
          "iopub.status.idle": "2024-11-30T08:57:49.719496Z",
          "shell.execute_reply.started": "2024-11-30T08:47:36.19436Z",
          "shell.execute_reply": "2024-11-30T08:57:49.718144Z"
        },
        "collapsed": true,
        "jupyter": {
          "outputs_hidden": true
        },
        "id": "Gtph1e2nye7R"
      },
      "outputs": [],
      "execution_count": null
    },
    {
      "cell_type": "code",
      "source": [
        "# 최적의 하이퍼파라미터로 모델 재학습\n",
        "best_params = study.best_params\n",
        "best_params['class_weight'] = 'balanced'\n",
        "best_params['random_state'] = 42\n",
        "best_params['n_jobs'] = -1\n",
        "\n",
        "best_lgbm = LGBMClassifier(**best_params)\n",
        "\n",
        "# 전체 학습 데이터로 재학습\n",
        "best_lgbm.fit(X_train, y_train_split)"
      ],
      "metadata": {
        "trusted": true,
        "execution": {
          "iopub.status.busy": "2024-11-30T09:00:16.422948Z",
          "iopub.execute_input": "2024-11-30T09:00:16.423851Z",
          "iopub.status.idle": "2024-11-30T09:00:23.86407Z",
          "shell.execute_reply.started": "2024-11-30T09:00:16.42381Z",
          "shell.execute_reply": "2024-11-30T09:00:23.862695Z"
        },
        "collapsed": true,
        "jupyter": {
          "outputs_hidden": true
        },
        "id": "HvdTo_Rkye7R"
      },
      "outputs": [],
      "execution_count": null
    },
    {
      "cell_type": "code",
      "source": [
        "# 모델 평가\n",
        "print(\"\\n최적화된 LGBMClassifier 모델 평가:\")\n",
        "evaluate_model(best_lgbm, X_val, y_val)"
      ],
      "metadata": {
        "trusted": true,
        "execution": {
          "iopub.status.busy": "2024-11-30T09:00:23.865926Z",
          "iopub.execute_input": "2024-11-30T09:00:23.866309Z",
          "iopub.status.idle": "2024-11-30T09:00:24.903441Z",
          "shell.execute_reply.started": "2024-11-30T09:00:23.866275Z",
          "shell.execute_reply": "2024-11-30T09:00:24.902079Z"
        },
        "id": "rzcLoA7iye7S"
      },
      "outputs": [],
      "execution_count": null
    },
    {
      "cell_type": "code",
      "source": [
        "import joblib\n",
        "\n",
        "# 1. 모델들을 딕셔너리에 저장\n",
        "models = {\n",
        "    'best_svm': best_svm,\n",
        "    'best_lgbm': best_lgbm,\n",
        "    'best_lr': best_lr,\n",
        "    'best_rf': best_rf\n",
        "}\n",
        "\n",
        "# 2. 각 모델을 반복적으로 저장\n",
        "for name, model in models.items():\n",
        "    filename = f'{name}.pkl'  # 파일명 설정\n",
        "    joblib.dump(model, filename)  # 모델 저장\n",
        "    print(f'{filename} 저장 완료')\n"
      ],
      "metadata": {
        "trusted": true,
        "execution": {
          "iopub.status.busy": "2024-11-30T09:41:46.463743Z",
          "iopub.execute_input": "2024-11-30T09:41:46.464279Z",
          "iopub.status.idle": "2024-11-30T09:41:47.639006Z",
          "shell.execute_reply.started": "2024-11-30T09:41:46.464241Z",
          "shell.execute_reply": "2024-11-30T09:41:47.637281Z"
        },
        "id": "_JwaAlfKye7S"
      },
      "outputs": [],
      "execution_count": null
    },
    {
      "cell_type": "markdown",
      "source": [
        "## Shapley Value"
      ],
      "metadata": {
        "id": "WGOaYJLtye7T"
      }
    },
    {
      "cell_type": "code",
      "source": [
        "import shap\n",
        "\n",
        "# TreeExplainer 생성\n",
        "explainer = shap.TreeExplainer(best_lgbm)\n",
        "shap_values = explainer.shap_values(X_val)"
      ],
      "metadata": {
        "trusted": true,
        "execution": {
          "iopub.status.busy": "2024-11-30T12:25:05.554576Z",
          "iopub.execute_input": "2024-11-30T12:25:05.554969Z",
          "iopub.status.idle": "2024-11-30T12:26:51.562236Z",
          "shell.execute_reply.started": "2024-11-30T12:25:05.554929Z",
          "shell.execute_reply": "2024-11-30T12:26:51.561147Z"
        },
        "id": "r4tfBZ9jye7T"
      },
      "outputs": [],
      "execution_count": null
    },
    {
      "cell_type": "code",
      "source": [
        "# 이진 분류의 경우, 양성 클래스의 SHAP 값만 선택\n",
        "shap_values_positive = shap_values[1]"
      ],
      "metadata": {
        "trusted": true,
        "execution": {
          "iopub.status.busy": "2024-11-30T12:26:55.828928Z",
          "iopub.execute_input": "2024-11-30T12:26:55.829551Z",
          "iopub.status.idle": "2024-11-30T12:26:55.836721Z",
          "shell.execute_reply.started": "2024-11-30T12:26:55.829513Z",
          "shell.execute_reply": "2024-11-30T12:26:55.83566Z"
        },
        "id": "cVpTeohZye7T"
      },
      "outputs": [],
      "execution_count": null
    },
    {
      "cell_type": "code",
      "source": [
        "# SHAP 초기화 (Jupyter Notebook 사용 시)\n",
        "shap.initjs()\n",
        "\n",
        "# Summary Plot (Dot)\n",
        "shap.summary_plot(shap_values_positive, X_val, plot_type=\"dot\", max_display=10)"
      ],
      "metadata": {
        "trusted": true,
        "execution": {
          "iopub.status.busy": "2024-11-30T12:30:47.275718Z",
          "iopub.execute_input": "2024-11-30T12:30:47.276133Z",
          "iopub.status.idle": "2024-11-30T12:30:49.510228Z",
          "shell.execute_reply.started": "2024-11-30T12:30:47.276096Z",
          "shell.execute_reply": "2024-11-30T12:30:49.509134Z"
        },
        "id": "h_OBnqkPye7T"
      },
      "outputs": [],
      "execution_count": null
    },
    {
      "cell_type": "code",
      "source": [
        "# Summary Plot (Bar)\n",
        "shap.summary_plot(shap_values_positive, X_val, plot_type=\"bar\", max_display=10)"
      ],
      "metadata": {
        "trusted": true,
        "execution": {
          "iopub.status.busy": "2024-11-30T12:32:42.894279Z",
          "iopub.execute_input": "2024-11-30T12:32:42.895158Z",
          "iopub.status.idle": "2024-11-30T12:32:43.209521Z",
          "shell.execute_reply.started": "2024-11-30T12:32:42.895119Z",
          "shell.execute_reply": "2024-11-30T12:32:43.208679Z"
        },
        "id": "gjlK3DKkye7U"
      },
      "outputs": [],
      "execution_count": null
    },
    {
      "cell_type": "code",
      "source": [
        "shap_values_positive"
      ],
      "metadata": {
        "trusted": true,
        "execution": {
          "iopub.status.busy": "2024-11-30T12:38:31.102102Z",
          "iopub.execute_input": "2024-11-30T12:38:31.102828Z",
          "iopub.status.idle": "2024-11-30T12:38:31.111935Z",
          "shell.execute_reply.started": "2024-11-30T12:38:31.102784Z",
          "shell.execute_reply": "2024-11-30T12:38:31.110944Z"
        },
        "id": "h1D8Wexbye7U"
      },
      "outputs": [],
      "execution_count": null
    },
    {
      "cell_type": "code",
      "source": [
        "X_val['Ins_Age']"
      ],
      "metadata": {
        "trusted": true,
        "execution": {
          "iopub.status.busy": "2024-11-30T12:38:20.842035Z",
          "iopub.execute_input": "2024-11-30T12:38:20.842467Z",
          "iopub.status.idle": "2024-11-30T12:38:20.851744Z",
          "shell.execute_reply.started": "2024-11-30T12:38:20.84243Z",
          "shell.execute_reply": "2024-11-30T12:38:20.850708Z"
        },
        "id": "KU0Ozqglye7U"
      },
      "outputs": [],
      "execution_count": null
    },
    {
      "cell_type": "code",
      "source": [
        "# Dependence Plot 예시\n",
        "shap.dependence_plot('Ins_Age', shap_values_positive, X_val, interaction_index=None)"
      ],
      "metadata": {
        "trusted": true,
        "execution": {
          "iopub.status.busy": "2024-11-30T12:39:47.068742Z",
          "iopub.execute_input": "2024-11-30T12:39:47.069271Z",
          "iopub.status.idle": "2024-11-30T12:39:47.352424Z",
          "shell.execute_reply.started": "2024-11-30T12:39:47.069223Z",
          "shell.execute_reply": "2024-11-30T12:39:47.351389Z"
        },
        "id": "IbD4MU-tye7U"
      },
      "outputs": [],
      "execution_count": null
    },
    {
      "cell_type": "code",
      "source": [
        "# Waterfall Plot 예시 (첫 번째 인스턴스)\n",
        "shap.waterfall_plot(shap.Explanation(values=shap_values_positive[0],\n",
        "                                     base_values=explainer.expected_value[1],\n",
        "                                     data=X_val.iloc[0]))\n",
        "\n",
        "# 플롯 표시\n",
        "plt.show()"
      ],
      "metadata": {
        "trusted": true,
        "execution": {
          "iopub.status.busy": "2024-11-30T12:42:29.45738Z",
          "iopub.execute_input": "2024-11-30T12:42:29.458224Z",
          "iopub.status.idle": "2024-11-30T12:42:30.398585Z",
          "shell.execute_reply.started": "2024-11-30T12:42:29.45817Z",
          "shell.execute_reply": "2024-11-30T12:42:30.397318Z"
        },
        "id": "EeZgN2_Cye7V"
      },
      "outputs": [],
      "execution_count": null
    }
  ]
}